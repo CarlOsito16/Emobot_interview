{
  "nbformat": 4,
  "nbformat_minor": 0,
  "metadata": {
    "colab": {
      "provenance": []
    },
    "kernelspec": {
      "name": "python3",
      "display_name": "Python 3"
    },
    "language_info": {
      "name": "python"
    }
  },
  "cells": [
    {
      "cell_type": "code",
      "execution_count": 1,
      "metadata": {
        "colab": {
          "base_uri": "https://localhost:8080/"
        },
        "id": "J2VHtcSJTJ2O",
        "outputId": "955a3664-e6b1-48c2-b63d-b26e88a133bf"
      },
      "outputs": [
        {
          "output_type": "stream",
          "name": "stdout",
          "text": [
            "Reading package lists... Done\n",
            "Building dependency tree       \n",
            "Reading state information... Done\n",
            "The following package was automatically installed and is no longer required:\n",
            "  libnvidia-common-460\n",
            "Use 'apt autoremove' to remove it.\n",
            "The following additional packages will be installed:\n",
            "  libspatialindex-c4v5 libspatialindex4v5\n",
            "The following NEW packages will be installed:\n",
            "  libspatialindex-c4v5 libspatialindex-dev libspatialindex4v5\n",
            "0 upgraded, 3 newly installed, 0 to remove and 21 not upgraded.\n",
            "Need to get 555 kB of archives.\n",
            "After this operation, 3,308 kB of additional disk space will be used.\n",
            "Get:1 http://archive.ubuntu.com/ubuntu bionic/universe amd64 libspatialindex4v5 amd64 1.8.5-5 [219 kB]\n",
            "Get:2 http://archive.ubuntu.com/ubuntu bionic/universe amd64 libspatialindex-c4v5 amd64 1.8.5-5 [51.7 kB]\n",
            "Get:3 http://archive.ubuntu.com/ubuntu bionic/universe amd64 libspatialindex-dev amd64 1.8.5-5 [285 kB]\n",
            "Fetched 555 kB in 1s (838 kB/s)\n",
            "Selecting previously unselected package libspatialindex4v5:amd64.\n",
            "(Reading database ... 124016 files and directories currently installed.)\n",
            "Preparing to unpack .../libspatialindex4v5_1.8.5-5_amd64.deb ...\n",
            "Unpacking libspatialindex4v5:amd64 (1.8.5-5) ...\n",
            "Selecting previously unselected package libspatialindex-c4v5:amd64.\n",
            "Preparing to unpack .../libspatialindex-c4v5_1.8.5-5_amd64.deb ...\n",
            "Unpacking libspatialindex-c4v5:amd64 (1.8.5-5) ...\n",
            "Selecting previously unselected package libspatialindex-dev:amd64.\n",
            "Preparing to unpack .../libspatialindex-dev_1.8.5-5_amd64.deb ...\n",
            "Unpacking libspatialindex-dev:amd64 (1.8.5-5) ...\n",
            "Setting up libspatialindex4v5:amd64 (1.8.5-5) ...\n",
            "Setting up libspatialindex-c4v5:amd64 (1.8.5-5) ...\n",
            "Setting up libspatialindex-dev:amd64 (1.8.5-5) ...\n",
            "Processing triggers for libc-bin (2.27-3ubuntu1.6) ...\n",
            "Looking in indexes: https://pypi.org/simple, https://us-python.pkg.dev/colab-wheels/public/simple/\n",
            "Collecting rtree\n",
            "  Downloading Rtree-1.0.1-cp38-cp38-manylinux_2_17_x86_64.manylinux2014_x86_64.whl (1.0 MB)\n",
            "\u001b[2K     \u001b[90m━━━━━━━━━━━━━━━━━━━━━━━━━━━━━━━━━━━━━━━━\u001b[0m \u001b[32m1.0/1.0 MB\u001b[0m \u001b[31m41.8 MB/s\u001b[0m eta \u001b[36m0:00:00\u001b[0m\n",
            "\u001b[?25hInstalling collected packages: rtree\n",
            "Successfully installed rtree-1.0.1\n",
            "Looking in indexes: https://pypi.org/simple, https://us-python.pkg.dev/colab-wheels/public/simple/\n",
            "Collecting geopandas\n",
            "  Downloading geopandas-0.12.2-py3-none-any.whl (1.1 MB)\n",
            "\u001b[2K     \u001b[90m━━━━━━━━━━━━━━━━━━━━━━━━━━━━━━━━━━━━━━━━\u001b[0m \u001b[32m1.1/1.1 MB\u001b[0m \u001b[31m58.1 MB/s\u001b[0m eta \u001b[36m0:00:00\u001b[0m\n",
            "\u001b[?25hRequirement already satisfied: packaging in /usr/local/lib/python3.8/dist-packages (from geopandas) (21.3)\n",
            "Requirement already satisfied: pandas>=1.0.0 in /usr/local/lib/python3.8/dist-packages (from geopandas) (1.3.5)\n",
            "Collecting fiona>=1.8\n",
            "  Downloading Fiona-1.8.22-cp38-cp38-manylinux_2_17_x86_64.manylinux2014_x86_64.whl (16.6 MB)\n",
            "\u001b[2K     \u001b[90m━━━━━━━━━━━━━━━━━━━━━━━━━━━━━━━━━━━━━━━━\u001b[0m \u001b[32m16.6/16.6 MB\u001b[0m \u001b[31m98.3 MB/s\u001b[0m eta \u001b[36m0:00:00\u001b[0m\n",
            "\u001b[?25hRequirement already satisfied: shapely>=1.7 in /usr/local/lib/python3.8/dist-packages (from geopandas) (2.0.0)\n",
            "Collecting pyproj>=2.6.1.post1\n",
            "  Downloading pyproj-3.4.1-cp38-cp38-manylinux_2_17_x86_64.manylinux2014_x86_64.whl (7.8 MB)\n",
            "\u001b[2K     \u001b[90m━━━━━━━━━━━━━━━━━━━━━━━━━━━━━━━━━━━━━━━━\u001b[0m \u001b[32m7.8/7.8 MB\u001b[0m \u001b[31m137.4 MB/s\u001b[0m eta \u001b[36m0:00:00\u001b[0m\n",
            "\u001b[?25hRequirement already satisfied: six>=1.7 in /usr/local/lib/python3.8/dist-packages (from fiona>=1.8->geopandas) (1.15.0)\n",
            "Collecting click-plugins>=1.0\n",
            "  Downloading click_plugins-1.1.1-py2.py3-none-any.whl (7.5 kB)\n",
            "Requirement already satisfied: setuptools in /usr/local/lib/python3.8/dist-packages (from fiona>=1.8->geopandas) (57.4.0)\n",
            "Requirement already satisfied: certifi in /usr/local/lib/python3.8/dist-packages (from fiona>=1.8->geopandas) (2022.12.7)\n",
            "Requirement already satisfied: click>=4.0 in /usr/local/lib/python3.8/dist-packages (from fiona>=1.8->geopandas) (7.1.2)\n",
            "Collecting cligj>=0.5\n",
            "  Downloading cligj-0.7.2-py3-none-any.whl (7.1 kB)\n",
            "Requirement already satisfied: attrs>=17 in /usr/local/lib/python3.8/dist-packages (from fiona>=1.8->geopandas) (22.2.0)\n",
            "Collecting munch\n",
            "  Downloading munch-2.5.0-py2.py3-none-any.whl (10 kB)\n",
            "Requirement already satisfied: pytz>=2017.3 in /usr/local/lib/python3.8/dist-packages (from pandas>=1.0.0->geopandas) (2022.7)\n",
            "Requirement already satisfied: numpy>=1.17.3 in /usr/local/lib/python3.8/dist-packages (from pandas>=1.0.0->geopandas) (1.21.6)\n",
            "Requirement already satisfied: python-dateutil>=2.7.3 in /usr/local/lib/python3.8/dist-packages (from pandas>=1.0.0->geopandas) (2.8.2)\n",
            "Requirement already satisfied: pyparsing!=3.0.5,>=2.0.2 in /usr/local/lib/python3.8/dist-packages (from packaging->geopandas) (3.0.9)\n",
            "Installing collected packages: pyproj, munch, cligj, click-plugins, fiona, geopandas\n",
            "Successfully installed click-plugins-1.1.1 cligj-0.7.2 fiona-1.8.22 geopandas-0.12.2 munch-2.5.0 pyproj-3.4.1\n"
          ]
        }
      ],
      "source": [
        "!apt install libspatialindex-dev\n",
        "!pip install rtree\n",
        "!pip install geopandas"
      ]
    },
    {
      "cell_type": "markdown",
      "source": [
        "# Import the relevant packages"
      ],
      "metadata": {
        "id": "VRThJDrkQ0I1"
      }
    },
    {
      "cell_type": "code",
      "source": [
        "import geopandas as gpd\n",
        "import pandas as pd\n",
        "from sklearn.preprocessing import LabelEncoder, MultiLabelBinarizer\n",
        "import numpy as np\n",
        "import matplotlib.pyplot as plt\n",
        "import seaborn as sns\n",
        "\n",
        "from sklearn.model_selection import train_test_split\n",
        "from sklearn.svm import SVC\n",
        "from sklearn.neighbors import KNeighborsClassifier\n",
        "from sklearn.model_selection import GridSearchCV\n",
        "\n",
        "from sklearn.metrics import classification_report, f1_score\n"
      ],
      "metadata": {
        "id": "9VTMznYvTKLO"
      },
      "execution_count": 177,
      "outputs": []
    },
    {
      "cell_type": "markdown",
      "source": [
        "## DISCLAIMER !!\n",
        "\n",
        "\n",
        "*   As I have lost a fair share amount of my time stuck at the `geopandas` framework installation due to its incompatiblity with Mac M1, I decided to move on to Google Colab to perform the task.\n",
        "\n",
        "*  The training file for some reason could not be opened without crashing. It keeps returning that that some stored values do not match the json format even I have verified it online. So as to solve this problem, I sliced only a part of the around 20,000 ( 19,996 to be exact) for the training and validation set.\n",
        "\n",
        "* Despite the smaller dataset, I am certain that my preprocessing methods and other requirements are met.\n",
        "\n",
        "\n"
      ],
      "metadata": {
        "id": "Jm-V6Yq5Q91-"
      }
    },
    {
      "cell_type": "markdown",
      "source": [
        "# Let's start by reading the sliced training data"
      ],
      "metadata": {
        "id": "Ogke_9gXSxjB"
      }
    },
    {
      "cell_type": "code",
      "source": [
        "train_df = gpd.read_file('20k_train.geojson', index_col=0)\n",
        "print(train_df.shape)"
      ],
      "metadata": {
        "colab": {
          "base_uri": "https://localhost:8080/"
        },
        "id": "fBhASmLGf9pm",
        "outputId": "b30aa351-0694-4a0f-b5ae-d0c8d6469e0f"
      },
      "execution_count": 463,
      "outputs": [
        {
          "output_type": "stream",
          "name": "stdout",
          "text": [
            "(19996, 15)\n"
          ]
        }
      ]
    },
    {
      "cell_type": "code",
      "source": [
        "train_df.head()"
      ],
      "metadata": {
        "colab": {
          "base_uri": "https://localhost:8080/",
          "height": 608
        },
        "id": "y1yCh6EpTaX5",
        "outputId": "2d3f02a1-88af-4e67-9fa0-eedd076d55b1"
      },
      "execution_count": 92,
      "outputs": [
        {
          "output_type": "execute_result",
          "data": {
            "text/plain": [
              "   index change_type change_status_date1  change_status_date2  \\\n",
              "0      0  Commercial        Land Cleared  Construction Midway   \n",
              "1      1  Commercial           Greenland            Greenland   \n",
              "2      2  Commercial        Land Cleared         Land Cleared   \n",
              "3      3  Commercial        Land Cleared         Land Cleared   \n",
              "4      4  Commercial        Land Cleared         Land Cleared   \n",
              "\n",
              "    change_status_date3  change_status_date4 change_status_date5       date1  \\\n",
              "0     Construction Done    Construction Done   Construction Done  29-05-2014   \n",
              "1     Construction Done    Construction Done   Construction Done  29-05-2014   \n",
              "2     Construction Done    Construction Done   Construction Done  29-05-2014   \n",
              "3   Construction Midway  Construction Midway   Construction Done  29-05-2014   \n",
              "4  Construction Started  Construction Midway   Construction Done  29-05-2014   \n",
              "\n",
              "        date2       date3       date4       date5   urban_types  \\\n",
              "0  13-09-2015  25-02-2017  10-10-2018  19-05-2020    Industrial   \n",
              "1  13-09-2015  25-02-2017  10-10-2018  19-05-2020  Sparse Urban   \n",
              "2  13-09-2015  25-02-2017  10-10-2018  19-05-2020  Sparse Urban   \n",
              "3  13-09-2015  25-02-2017  10-10-2018  19-05-2020    Industrial   \n",
              "4  13-09-2015  25-02-2017  10-10-2018  19-05-2020    Industrial   \n",
              "\n",
              "                  geography_types  \\\n",
              "0  River,Sparse Forest,Grass Land   \n",
              "1        Sparse Forest,Grass Land   \n",
              "2        Sparse Forest,Grass Land   \n",
              "3  River,Sparse Forest,Grass Land   \n",
              "4  River,Sparse Forest,Grass Land   \n",
              "\n",
              "                                            geometry  \n",
              "0  POLYGON ((116.97563 38.89002, 116.97590 38.890...  \n",
              "1  POLYGON ((116.97500 38.88969, 116.97524 38.889...  \n",
              "2  POLYGON ((116.97519 38.88847, 116.97568 38.888...  \n",
              "3  POLYGON ((116.97630 38.89017, 116.97730 38.890...  \n",
              "4  POLYGON ((116.97751 38.89037, 116.97854 38.890...  "
            ],
            "text/html": [
              "\n",
              "  <div id=\"df-45b90a05-e457-4774-824b-8b7f15ec3d67\">\n",
              "    <div class=\"colab-df-container\">\n",
              "      <div>\n",
              "<style scoped>\n",
              "    .dataframe tbody tr th:only-of-type {\n",
              "        vertical-align: middle;\n",
              "    }\n",
              "\n",
              "    .dataframe tbody tr th {\n",
              "        vertical-align: top;\n",
              "    }\n",
              "\n",
              "    .dataframe thead th {\n",
              "        text-align: right;\n",
              "    }\n",
              "</style>\n",
              "<table border=\"1\" class=\"dataframe\">\n",
              "  <thead>\n",
              "    <tr style=\"text-align: right;\">\n",
              "      <th></th>\n",
              "      <th>index</th>\n",
              "      <th>change_type</th>\n",
              "      <th>change_status_date1</th>\n",
              "      <th>change_status_date2</th>\n",
              "      <th>change_status_date3</th>\n",
              "      <th>change_status_date4</th>\n",
              "      <th>change_status_date5</th>\n",
              "      <th>date1</th>\n",
              "      <th>date2</th>\n",
              "      <th>date3</th>\n",
              "      <th>date4</th>\n",
              "      <th>date5</th>\n",
              "      <th>urban_types</th>\n",
              "      <th>geography_types</th>\n",
              "      <th>geometry</th>\n",
              "    </tr>\n",
              "  </thead>\n",
              "  <tbody>\n",
              "    <tr>\n",
              "      <th>0</th>\n",
              "      <td>0</td>\n",
              "      <td>Commercial</td>\n",
              "      <td>Land Cleared</td>\n",
              "      <td>Construction Midway</td>\n",
              "      <td>Construction Done</td>\n",
              "      <td>Construction Done</td>\n",
              "      <td>Construction Done</td>\n",
              "      <td>29-05-2014</td>\n",
              "      <td>13-09-2015</td>\n",
              "      <td>25-02-2017</td>\n",
              "      <td>10-10-2018</td>\n",
              "      <td>19-05-2020</td>\n",
              "      <td>Industrial</td>\n",
              "      <td>River,Sparse Forest,Grass Land</td>\n",
              "      <td>POLYGON ((116.97563 38.89002, 116.97590 38.890...</td>\n",
              "    </tr>\n",
              "    <tr>\n",
              "      <th>1</th>\n",
              "      <td>1</td>\n",
              "      <td>Commercial</td>\n",
              "      <td>Greenland</td>\n",
              "      <td>Greenland</td>\n",
              "      <td>Construction Done</td>\n",
              "      <td>Construction Done</td>\n",
              "      <td>Construction Done</td>\n",
              "      <td>29-05-2014</td>\n",
              "      <td>13-09-2015</td>\n",
              "      <td>25-02-2017</td>\n",
              "      <td>10-10-2018</td>\n",
              "      <td>19-05-2020</td>\n",
              "      <td>Sparse Urban</td>\n",
              "      <td>Sparse Forest,Grass Land</td>\n",
              "      <td>POLYGON ((116.97500 38.88969, 116.97524 38.889...</td>\n",
              "    </tr>\n",
              "    <tr>\n",
              "      <th>2</th>\n",
              "      <td>2</td>\n",
              "      <td>Commercial</td>\n",
              "      <td>Land Cleared</td>\n",
              "      <td>Land Cleared</td>\n",
              "      <td>Construction Done</td>\n",
              "      <td>Construction Done</td>\n",
              "      <td>Construction Done</td>\n",
              "      <td>29-05-2014</td>\n",
              "      <td>13-09-2015</td>\n",
              "      <td>25-02-2017</td>\n",
              "      <td>10-10-2018</td>\n",
              "      <td>19-05-2020</td>\n",
              "      <td>Sparse Urban</td>\n",
              "      <td>Sparse Forest,Grass Land</td>\n",
              "      <td>POLYGON ((116.97519 38.88847, 116.97568 38.888...</td>\n",
              "    </tr>\n",
              "    <tr>\n",
              "      <th>3</th>\n",
              "      <td>3</td>\n",
              "      <td>Commercial</td>\n",
              "      <td>Land Cleared</td>\n",
              "      <td>Land Cleared</td>\n",
              "      <td>Construction Midway</td>\n",
              "      <td>Construction Midway</td>\n",
              "      <td>Construction Done</td>\n",
              "      <td>29-05-2014</td>\n",
              "      <td>13-09-2015</td>\n",
              "      <td>25-02-2017</td>\n",
              "      <td>10-10-2018</td>\n",
              "      <td>19-05-2020</td>\n",
              "      <td>Industrial</td>\n",
              "      <td>River,Sparse Forest,Grass Land</td>\n",
              "      <td>POLYGON ((116.97630 38.89017, 116.97730 38.890...</td>\n",
              "    </tr>\n",
              "    <tr>\n",
              "      <th>4</th>\n",
              "      <td>4</td>\n",
              "      <td>Commercial</td>\n",
              "      <td>Land Cleared</td>\n",
              "      <td>Land Cleared</td>\n",
              "      <td>Construction Started</td>\n",
              "      <td>Construction Midway</td>\n",
              "      <td>Construction Done</td>\n",
              "      <td>29-05-2014</td>\n",
              "      <td>13-09-2015</td>\n",
              "      <td>25-02-2017</td>\n",
              "      <td>10-10-2018</td>\n",
              "      <td>19-05-2020</td>\n",
              "      <td>Industrial</td>\n",
              "      <td>River,Sparse Forest,Grass Land</td>\n",
              "      <td>POLYGON ((116.97751 38.89037, 116.97854 38.890...</td>\n",
              "    </tr>\n",
              "  </tbody>\n",
              "</table>\n",
              "</div>\n",
              "      <button class=\"colab-df-convert\" onclick=\"convertToInteractive('df-45b90a05-e457-4774-824b-8b7f15ec3d67')\"\n",
              "              title=\"Convert this dataframe to an interactive table.\"\n",
              "              style=\"display:none;\">\n",
              "        \n",
              "  <svg xmlns=\"http://www.w3.org/2000/svg\" height=\"24px\"viewBox=\"0 0 24 24\"\n",
              "       width=\"24px\">\n",
              "    <path d=\"M0 0h24v24H0V0z\" fill=\"none\"/>\n",
              "    <path d=\"M18.56 5.44l.94 2.06.94-2.06 2.06-.94-2.06-.94-.94-2.06-.94 2.06-2.06.94zm-11 1L8.5 8.5l.94-2.06 2.06-.94-2.06-.94L8.5 2.5l-.94 2.06-2.06.94zm10 10l.94 2.06.94-2.06 2.06-.94-2.06-.94-.94-2.06-.94 2.06-2.06.94z\"/><path d=\"M17.41 7.96l-1.37-1.37c-.4-.4-.92-.59-1.43-.59-.52 0-1.04.2-1.43.59L10.3 9.45l-7.72 7.72c-.78.78-.78 2.05 0 2.83L4 21.41c.39.39.9.59 1.41.59.51 0 1.02-.2 1.41-.59l7.78-7.78 2.81-2.81c.8-.78.8-2.07 0-2.86zM5.41 20L4 18.59l7.72-7.72 1.47 1.35L5.41 20z\"/>\n",
              "  </svg>\n",
              "      </button>\n",
              "      \n",
              "  <style>\n",
              "    .colab-df-container {\n",
              "      display:flex;\n",
              "      flex-wrap:wrap;\n",
              "      gap: 12px;\n",
              "    }\n",
              "\n",
              "    .colab-df-convert {\n",
              "      background-color: #E8F0FE;\n",
              "      border: none;\n",
              "      border-radius: 50%;\n",
              "      cursor: pointer;\n",
              "      display: none;\n",
              "      fill: #1967D2;\n",
              "      height: 32px;\n",
              "      padding: 0 0 0 0;\n",
              "      width: 32px;\n",
              "    }\n",
              "\n",
              "    .colab-df-convert:hover {\n",
              "      background-color: #E2EBFA;\n",
              "      box-shadow: 0px 1px 2px rgba(60, 64, 67, 0.3), 0px 1px 3px 1px rgba(60, 64, 67, 0.15);\n",
              "      fill: #174EA6;\n",
              "    }\n",
              "\n",
              "    [theme=dark] .colab-df-convert {\n",
              "      background-color: #3B4455;\n",
              "      fill: #D2E3FC;\n",
              "    }\n",
              "\n",
              "    [theme=dark] .colab-df-convert:hover {\n",
              "      background-color: #434B5C;\n",
              "      box-shadow: 0px 1px 3px 1px rgba(0, 0, 0, 0.15);\n",
              "      filter: drop-shadow(0px 1px 2px rgba(0, 0, 0, 0.3));\n",
              "      fill: #FFFFFF;\n",
              "    }\n",
              "  </style>\n",
              "\n",
              "      <script>\n",
              "        const buttonEl =\n",
              "          document.querySelector('#df-45b90a05-e457-4774-824b-8b7f15ec3d67 button.colab-df-convert');\n",
              "        buttonEl.style.display =\n",
              "          google.colab.kernel.accessAllowed ? 'block' : 'none';\n",
              "\n",
              "        async function convertToInteractive(key) {\n",
              "          const element = document.querySelector('#df-45b90a05-e457-4774-824b-8b7f15ec3d67');\n",
              "          const dataTable =\n",
              "            await google.colab.kernel.invokeFunction('convertToInteractive',\n",
              "                                                     [key], {});\n",
              "          if (!dataTable) return;\n",
              "\n",
              "          const docLinkHtml = 'Like what you see? Visit the ' +\n",
              "            '<a target=\"_blank\" href=https://colab.research.google.com/notebooks/data_table.ipynb>data table notebook</a>'\n",
              "            + ' to learn more about interactive tables.';\n",
              "          element.innerHTML = '';\n",
              "          dataTable['output_type'] = 'display_data';\n",
              "          await google.colab.output.renderOutput(dataTable, element);\n",
              "          const docLink = document.createElement('div');\n",
              "          docLink.innerHTML = docLinkHtml;\n",
              "          element.appendChild(docLink);\n",
              "        }\n",
              "      </script>\n",
              "    </div>\n",
              "  </div>\n",
              "  "
            ]
          },
          "metadata": {},
          "execution_count": 92
        }
      ]
    },
    {
      "cell_type": "markdown",
      "source": [
        "Below is the graph showing that distribution of the 6 classes of this sliced dataset. From quick grasp, we see a **very imbalanced dataset** that is likly to affect the classification result."
      ],
      "metadata": {
        "id": "AlvX0V8zS5tQ"
      }
    },
    {
      "cell_type": "code",
      "source": [
        "sns.countplot(train_df['change_type'])\n",
        "print(train_df['change_type'].value_counts(normalize =True))"
      ],
      "metadata": {
        "colab": {
          "base_uri": "https://localhost:8080/",
          "height": 453
        },
        "id": "W1F76hBfseoR",
        "outputId": "52e0000d-7bfe-42f2-a67b-be9c6c831dbd"
      },
      "execution_count": 221,
      "outputs": [
        {
          "output_type": "stream",
          "name": "stderr",
          "text": [
            "/usr/local/lib/python3.8/dist-packages/seaborn/_decorators.py:36: FutureWarning: Pass the following variable as a keyword arg: x. From version 0.12, the only valid positional argument will be `data`, and passing other arguments without an explicit keyword will result in an error or misinterpretation.\n",
            "  warnings.warn(\n"
          ]
        },
        {
          "output_type": "stream",
          "name": "stdout",
          "text": [
            "Residential      0.502851\n",
            "Commercial       0.352170\n",
            "Demolition       0.105121\n",
            "Road             0.038408\n",
            "Industrial       0.001350\n",
            "Mega Projects    0.000100\n",
            "Name: change_type, dtype: float64\n"
          ]
        },
        {
          "output_type": "display_data",
          "data": {
            "text/plain": [
              "<Figure size 432x288 with 1 Axes>"
            ],
            "image/png": "[encoded data removed]"
          },
          "metadata": {
            "needs_background": "light"
          }
        }
      ]
    },
    {
      "cell_type": "markdown",
      "source": [
        "## FEATURE ENGINEERING 1 \n",
        "##One hot encoder on `df['urban_types']` and `df['geography_types']`"
      ],
      "metadata": {
        "id": "YDfalheQs5nZ"
      }
    },
    {
      "cell_type": "markdown",
      "source": [
        "We can observe that for some particular items, the `df['urban_types']` and `df['geography_types']` can belont to one class, that is 'multil-labeled' item.\n",
        "\n",
        "To handle this, each item in string is transformed into a list with the delimiter of \",\" to break the items into a list.\n",
        "\n",
        "Then each of this list is parsed through the `sklearn.preprocessing.MultiLabelBinarizer` to turn the list string values into encoded numbers"
      ],
      "metadata": {
        "id": "aIyesmJCtL8x"
      }
    },
    {
      "cell_type": "code",
      "source": [
        "train_df['urban_types'].unique()"
      ],
      "metadata": {
        "colab": {
          "base_uri": "https://localhost:8080/"
        },
        "id": "vfu6b-aEtIGt",
        "outputId": "99635b76-fea5-4588-f63a-c8548e0eb789"
      },
      "execution_count": 223,
      "outputs": [
        {
          "output_type": "execute_result",
          "data": {
            "text/plain": [
              "array(['Industrial', 'Sparse Urban', 'None', 'Rural', 'Dense Urban',\n",
              "       'Sparse Urban,Industrial', 'Urban Slum', 'Dense Urban,Industrial',\n",
              "       'Rural,Industrial', 'Sparse Urban,Dense Urban'], dtype=object)"
            ]
          },
          "metadata": {},
          "execution_count": 223
        }
      ]
    },
    {
      "cell_type": "code",
      "source": [
        "def get_element_list(elements: str):\n",
        "    \"This function help transform the string into list of items\"\n",
        "    element = elements.split(\",\")\n",
        "    return element"
      ],
      "metadata": {
        "id": "NvcJGOobnHb9"
      },
      "execution_count": 224,
      "outputs": []
    },
    {
      "cell_type": "code",
      "source": [
        "#for example\n",
        "print(get_element_list(\"River,Sparse Forest,'Grass Land'\"))"
      ],
      "metadata": {
        "colab": {
          "base_uri": "https://localhost:8080/"
        },
        "id": "ootCqxxkvPSK",
        "outputId": "797f31a6-ee31-41d1-d06b-bd880123f15a"
      },
      "execution_count": 238,
      "outputs": [
        {
          "output_type": "stream",
          "name": "stdout",
          "text": [
            "['River', 'Sparse Forest', \"'Grass Land'\"]\n"
          ]
        }
      ]
    },
    {
      "cell_type": "code",
      "source": [
        "# We use the lambda function to quickly the transformation of string format into a list\n",
        "urban_type_list = train_df['urban_types'].apply(lambda x : get_element_list(x) ) \n",
        "geography_type_list = train_df['geography_types'].apply(lambda x : get_element_list(x) )\n",
        "\n",
        "print(urban_type_list[:5])\n",
        "print()\n",
        "print(geography_type_list[:5])\n"
      ],
      "metadata": {
        "colab": {
          "base_uri": "https://localhost:8080/"
        },
        "id": "DVnmUkQXnbcp",
        "outputId": "64df594a-f988-4ab0-f942-5213d39ed917"
      },
      "execution_count": 228,
      "outputs": [
        {
          "output_type": "stream",
          "name": "stdout",
          "text": [
            "0      [Industrial]\n",
            "1    [Sparse Urban]\n",
            "2    [Sparse Urban]\n",
            "3      [Industrial]\n",
            "4      [Industrial]\n",
            "Name: urban_types, dtype: object\n",
            "\n",
            "0    [River, Sparse Forest, Grass Land]\n",
            "1           [Sparse Forest, Grass Land]\n",
            "2           [Sparse Forest, Grass Land]\n",
            "3    [River, Sparse Forest, Grass Land]\n",
            "4    [River, Sparse Forest, Grass Land]\n",
            "Name: geography_types, dtype: object\n"
          ]
        }
      ]
    },
    {
      "cell_type": "markdown",
      "source": [
        "Now that we have test that everything works fine,  we funtionize the whole `feature engineering 1` to return the dataframe of one-hot-encoded of `urban and geography multi labels`"
      ],
      "metadata": {
        "id": "tqzDn8y-ToGo"
      }
    },
    {
      "cell_type": "code",
      "source": [
        "def laberizer(df):\n",
        "    \"\"\"\n",
        "    This function will transform the 'urban' and 'geograpy' multi-labeleld item\n",
        "    into list, then sending to laberizer to generate one-hot encoder vector\n",
        "    \"\"\"\n",
        "    urban_type_col = df['urban_types']\n",
        "    geography_col = df['geography_types']\n",
        "\n",
        "    binarizer = MultiLabelBinarizer() # we call the MultiLabelBinarizer to perform the one-hot-encoder\n",
        "\n",
        "    urban_type_list = urban_type_col.apply(lambda x : get_element_list(x) ) #This use the function created above list from string\n",
        "    geography_type_list = geography_col.apply(lambda x : get_element_list(x) )\n",
        "\n",
        "\n",
        "    urban_df = pd.DataFrame(data = binarizer.fit_transform(urban_type_list), # the each list will be parsed throuth the binarizer to turn into one-hot encoder\n",
        "                            columns = binarizer.classes_,\n",
        "                            index= df.index)\n",
        "    \n",
        "    geography_df = pd.DataFrame(data = binarizer.fit_transform(geography_type_list),\n",
        "                            columns = binarizer.classes_,\n",
        "                            index= df.index)\n",
        "    \n",
        "    concat_df =  pd.concat([urban_df, geography_df], axis=1) #The laberized dataframes of 2 columns are stored and then concatenated into one dataframe after this function\n",
        "    \n",
        "    return concat_df"
      ],
      "metadata": {
        "id": "JLMiCUWRo6ub"
      },
      "execution_count": 229,
      "outputs": []
    },
    {
      "cell_type": "markdown",
      "source": [
        "Now we create a new dataframe containing all the vectorized features from the `laberizer(df)` function\n",
        "\n",
        "The resulting features from this transformation is **17**"
      ],
      "metadata": {
        "id": "xH3C9WQZvgnO"
      }
    },
    {
      "cell_type": "code",
      "source": [
        "laberized_df = laberizer(df = train_df)\n",
        "print(laberized_df.shape)"
      ],
      "metadata": {
        "colab": {
          "base_uri": "https://localhost:8080/"
        },
        "id": "oqalzCePouj0",
        "outputId": "60db3797-29a3-4477-d923-062877cd00dc"
      },
      "execution_count": 402,
      "outputs": [
        {
          "output_type": "stream",
          "name": "stdout",
          "text": [
            "(19996, 17)\n"
          ]
        }
      ]
    },
    {
      "cell_type": "code",
      "source": [
        "laberized_df.head()"
      ],
      "metadata": {
        "colab": {
          "base_uri": "https://localhost:8080/",
          "height": 285
        },
        "id": "yJ3-ZCEVu0Ii",
        "outputId": "60003e0b-bfa8-40b7-aefa-530ad5dcc8ed"
      },
      "execution_count": 403,
      "outputs": [
        {
          "output_type": "execute_result",
          "data": {
            "text/plain": [
              "   Dense Urban  Industrial  None  Rural  Sparse Urban  Urban Slum  \\\n",
              "0            0           1     0      0             0           0   \n",
              "1            0           0     0      0             1           0   \n",
              "2            0           0     0      0             1           0   \n",
              "3            0           1     0      0             0           0   \n",
              "4            0           1     0      0             0           0   \n",
              "\n",
              "   Barren Land  Coastal  Dense Forest  Desert  Farms  Grass Land  Hills  \\\n",
              "0            0        0             0       0      0           1      0   \n",
              "1            0        0             0       0      0           1      0   \n",
              "2            0        0             0       0      0           1      0   \n",
              "3            0        0             0       0      0           1      0   \n",
              "4            0        0             0       0      0           1      0   \n",
              "\n",
              "   Lakes  None  River  Sparse Forest  \n",
              "0      0     0      1              1  \n",
              "1      0     0      0              1  \n",
              "2      0     0      0              1  \n",
              "3      0     0      1              1  \n",
              "4      0     0      1              1  "
            ],
            "text/html": [
              "\n",
              "  <div id=\"df-29a64aa2-ef72-4dea-a257-033d9de61652\">\n",
              "    <div class=\"colab-df-container\">\n",
              "      <div>\n",
              "<style scoped>\n",
              "    .dataframe tbody tr th:only-of-type {\n",
              "        vertical-align: middle;\n",
              "    }\n",
              "\n",
              "    .dataframe tbody tr th {\n",
              "        vertical-align: top;\n",
              "    }\n",
              "\n",
              "    .dataframe thead th {\n",
              "        text-align: right;\n",
              "    }\n",
              "</style>\n",
              "<table border=\"1\" class=\"dataframe\">\n",
              "  <thead>\n",
              "    <tr style=\"text-align: right;\">\n",
              "      <th></th>\n",
              "      <th>Dense Urban</th>\n",
              "      <th>Industrial</th>\n",
              "      <th>None</th>\n",
              "      <th>Rural</th>\n",
              "      <th>Sparse Urban</th>\n",
              "      <th>Urban Slum</th>\n",
              "      <th>Barren Land</th>\n",
              "      <th>Coastal</th>\n",
              "      <th>Dense Forest</th>\n",
              "      <th>Desert</th>\n",
              "      <th>Farms</th>\n",
              "      <th>Grass Land</th>\n",
              "      <th>Hills</th>\n",
              "      <th>Lakes</th>\n",
              "      <th>None</th>\n",
              "      <th>River</th>\n",
              "      <th>Sparse Forest</th>\n",
              "    </tr>\n",
              "  </thead>\n",
              "  <tbody>\n",
              "    <tr>\n",
              "      <th>0</th>\n",
              "      <td>0</td>\n",
              "      <td>1</td>\n",
              "      <td>0</td>\n",
              "      <td>0</td>\n",
              "      <td>0</td>\n",
              "      <td>0</td>\n",
              "      <td>0</td>\n",
              "      <td>0</td>\n",
              "      <td>0</td>\n",
              "      <td>0</td>\n",
              "      <td>0</td>\n",
              "      <td>1</td>\n",
              "      <td>0</td>\n",
              "      <td>0</td>\n",
              "      <td>0</td>\n",
              "      <td>1</td>\n",
              "      <td>1</td>\n",
              "    </tr>\n",
              "    <tr>\n",
              "      <th>1</th>\n",
              "      <td>0</td>\n",
              "      <td>0</td>\n",
              "      <td>0</td>\n",
              "      <td>0</td>\n",
              "      <td>1</td>\n",
              "      <td>0</td>\n",
              "      <td>0</td>\n",
              "      <td>0</td>\n",
              "      <td>0</td>\n",
              "      <td>0</td>\n",
              "      <td>0</td>\n",
              "      <td>1</td>\n",
              "      <td>0</td>\n",
              "      <td>0</td>\n",
              "      <td>0</td>\n",
              "      <td>0</td>\n",
              "      <td>1</td>\n",
              "    </tr>\n",
              "    <tr>\n",
              "      <th>2</th>\n",
              "      <td>0</td>\n",
              "      <td>0</td>\n",
              "      <td>0</td>\n",
              "      <td>0</td>\n",
              "      <td>1</td>\n",
              "      <td>0</td>\n",
              "      <td>0</td>\n",
              "      <td>0</td>\n",
              "      <td>0</td>\n",
              "      <td>0</td>\n",
              "      <td>0</td>\n",
              "      <td>1</td>\n",
              "      <td>0</td>\n",
              "      <td>0</td>\n",
              "      <td>0</td>\n",
              "      <td>0</td>\n",
              "      <td>1</td>\n",
              "    </tr>\n",
              "    <tr>\n",
              "      <th>3</th>\n",
              "      <td>0</td>\n",
              "      <td>1</td>\n",
              "      <td>0</td>\n",
              "      <td>0</td>\n",
              "      <td>0</td>\n",
              "      <td>0</td>\n",
              "      <td>0</td>\n",
              "      <td>0</td>\n",
              "      <td>0</td>\n",
              "      <td>0</td>\n",
              "      <td>0</td>\n",
              "      <td>1</td>\n",
              "      <td>0</td>\n",
              "      <td>0</td>\n",
              "      <td>0</td>\n",
              "      <td>1</td>\n",
              "      <td>1</td>\n",
              "    </tr>\n",
              "    <tr>\n",
              "      <th>4</th>\n",
              "      <td>0</td>\n",
              "      <td>1</td>\n",
              "      <td>0</td>\n",
              "      <td>0</td>\n",
              "      <td>0</td>\n",
              "      <td>0</td>\n",
              "      <td>0</td>\n",
              "      <td>0</td>\n",
              "      <td>0</td>\n",
              "      <td>0</td>\n",
              "      <td>0</td>\n",
              "      <td>1</td>\n",
              "      <td>0</td>\n",
              "      <td>0</td>\n",
              "      <td>0</td>\n",
              "      <td>1</td>\n",
              "      <td>1</td>\n",
              "    </tr>\n",
              "  </tbody>\n",
              "</table>\n",
              "</div>\n",
              "      <button class=\"colab-df-convert\" onclick=\"convertToInteractive('df-29a64aa2-ef72-4dea-a257-033d9de61652')\"\n",
              "              title=\"Convert this dataframe to an interactive table.\"\n",
              "              style=\"display:none;\">\n",
              "        \n",
              "  <svg xmlns=\"http://www.w3.org/2000/svg\" height=\"24px\"viewBox=\"0 0 24 24\"\n",
              "       width=\"24px\">\n",
              "    <path d=\"M0 0h24v24H0V0z\" fill=\"none\"/>\n",
              "    <path d=\"M18.56 5.44l.94 2.06.94-2.06 2.06-.94-2.06-.94-.94-2.06-.94 2.06-2.06.94zm-11 1L8.5 8.5l.94-2.06 2.06-.94-2.06-.94L8.5 2.5l-.94 2.06-2.06.94zm10 10l.94 2.06.94-2.06 2.06-.94-2.06-.94-.94-2.06-.94 2.06-2.06.94z\"/><path d=\"M17.41 7.96l-1.37-1.37c-.4-.4-.92-.59-1.43-.59-.52 0-1.04.2-1.43.59L10.3 9.45l-7.72 7.72c-.78.78-.78 2.05 0 2.83L4 21.41c.39.39.9.59 1.41.59.51 0 1.02-.2 1.41-.59l7.78-7.78 2.81-2.81c.8-.78.8-2.07 0-2.86zM5.41 20L4 18.59l7.72-7.72 1.47 1.35L5.41 20z\"/>\n",
              "  </svg>\n",
              "      </button>\n",
              "      \n",
              "  <style>\n",
              "    .colab-df-container {\n",
              "      display:flex;\n",
              "      flex-wrap:wrap;\n",
              "      gap: 12px;\n",
              "    }\n",
              "\n",
              "    .colab-df-convert {\n",
              "      background-color: #E8F0FE;\n",
              "      border: none;\n",
              "      border-radius: 50%;\n",
              "      cursor: pointer;\n",
              "      display: none;\n",
              "      fill: #1967D2;\n",
              "      height: 32px;\n",
              "      padding: 0 0 0 0;\n",
              "      width: 32px;\n",
              "    }\n",
              "\n",
              "    .colab-df-convert:hover {\n",
              "      background-color: #E2EBFA;\n",
              "      box-shadow: 0px 1px 2px rgba(60, 64, 67, 0.3), 0px 1px 3px 1px rgba(60, 64, 67, 0.15);\n",
              "      fill: #174EA6;\n",
              "    }\n",
              "\n",
              "    [theme=dark] .colab-df-convert {\n",
              "      background-color: #3B4455;\n",
              "      fill: #D2E3FC;\n",
              "    }\n",
              "\n",
              "    [theme=dark] .colab-df-convert:hover {\n",
              "      background-color: #434B5C;\n",
              "      box-shadow: 0px 1px 3px 1px rgba(0, 0, 0, 0.15);\n",
              "      filter: drop-shadow(0px 1px 2px rgba(0, 0, 0, 0.3));\n",
              "      fill: #FFFFFF;\n",
              "    }\n",
              "  </style>\n",
              "\n",
              "      <script>\n",
              "        const buttonEl =\n",
              "          document.querySelector('#df-29a64aa2-ef72-4dea-a257-033d9de61652 button.colab-df-convert');\n",
              "        buttonEl.style.display =\n",
              "          google.colab.kernel.accessAllowed ? 'block' : 'none';\n",
              "\n",
              "        async function convertToInteractive(key) {\n",
              "          const element = document.querySelector('#df-29a64aa2-ef72-4dea-a257-033d9de61652');\n",
              "          const dataTable =\n",
              "            await google.colab.kernel.invokeFunction('convertToInteractive',\n",
              "                                                     [key], {});\n",
              "          if (!dataTable) return;\n",
              "\n",
              "          const docLinkHtml = 'Like what you see? Visit the ' +\n",
              "            '<a target=\"_blank\" href=https://colab.research.google.com/notebooks/data_table.ipynb>data table notebook</a>'\n",
              "            + ' to learn more about interactive tables.';\n",
              "          element.innerHTML = '';\n",
              "          dataTable['output_type'] = 'display_data';\n",
              "          await google.colab.output.renderOutput(dataTable, element);\n",
              "          const docLink = document.createElement('div');\n",
              "          docLink.innerHTML = docLinkHtml;\n",
              "          element.appendChild(docLink);\n",
              "        }\n",
              "      </script>\n",
              "    </div>\n",
              "  </div>\n",
              "  "
            ]
          },
          "metadata": {},
          "execution_count": 403
        }
      ]
    },
    {
      "cell_type": "markdown",
      "source": [
        "## FEATURE ENGINEERING 2\n",
        "## Feature extraction from `dataframe['geometry']`"
      ],
      "metadata": {
        "id": "uX3S8ghvwEC0"
      }
    },
    {
      "cell_type": "markdown",
      "source": [
        " The main 2 features we are to extract from the geometric point of view are the `area` and `length` features of each polygon. \n",
        " \n",
        "The assumption on these two features are that different change types (as our output feature) might be assoicated with these 2. For examples, for mega projects the size should be significantly larger, while the length for 'road' should be relatively larger. \n",
        "\n",
        "However, once using the skeleton code to compute these two features  there is a warning message that 'area' are likely incorrect because of geographic CRS.\n",
        "\n",
        " After some research, according to https://stackoverflow.com/questions/72073417/userwarning-geometry-is-in-a-geographic-crs-results-from-buffer-are-likely-i, geometric coordinate must be changed to `3857` to represent the meter unit"
      ],
      "metadata": {
        "id": "5fPj1LjQ2khK"
      }
    },
    {
      "cell_type": "code",
      "source": [
        "# this is to show the inital warning after computing the `area` of each polygon\n",
        "\n",
        "area_df = train_df[['geometry']].area\n",
        "area_df.head()"
      ],
      "metadata": {
        "colab": {
          "base_uri": "https://localhost:8080/"
        },
        "id": "yGFMuOILu5no",
        "outputId": "c0a41647-11b9-48ba-dc03-500ac3a012de"
      },
      "execution_count": 327,
      "outputs": [
        {
          "output_type": "stream",
          "name": "stderr",
          "text": [
            "<ipython-input-327-ee358865adc1>:1: UserWarning: Geometry is in a geographic CRS. Results from 'area' are likely incorrect. Use 'GeoSeries.to_crs()' to re-project geometries to a projected CRS before this operation.\n",
            "\n",
            "  area_df = train_df[['geometry']].area\n"
          ]
        },
        {
          "output_type": "execute_result",
          "data": {
            "text/plain": [
              "0    1.237159e-06\n",
              "1    4.701495e-07\n",
              "2    4.536881e-07\n",
              "3    2.936349e-07\n",
              "4    2.905206e-07\n",
              "dtype: float64"
            ]
          },
          "metadata": {},
          "execution_count": 327
        }
      ]
    },
    {
      "cell_type": "code",
      "source": [
        "train_df['geometry'].crs # we can see that the original CRS value here 4326"
      ],
      "metadata": {
        "colab": {
          "base_uri": "https://localhost:8080/"
        },
        "id": "UZgdOW4E2JBp",
        "outputId": "2a1aa69e-0e11-41fb-c367-7099bd22c56c"
      },
      "execution_count": 326,
      "outputs": [
        {
          "output_type": "execute_result",
          "data": {
            "text/plain": [
              "<Geographic 2D CRS: EPSG:4326>\n",
              "Name: WGS 84\n",
              "Axis Info [ellipsoidal]:\n",
              "- Lat[north]: Geodetic latitude (degree)\n",
              "- Lon[east]: Geodetic longitude (degree)\n",
              "Area of Use:\n",
              "- name: World.\n",
              "- bounds: (-180.0, -90.0, 180.0, 90.0)\n",
              "Datum: World Geodetic System 1984 ensemble\n",
              "- Ellipsoid: WGS 84\n",
              "- Prime Meridian: Greenwich"
            ]
          },
          "metadata": {},
          "execution_count": 326
        }
      ]
    },
    {
      "cell_type": "code",
      "source": [
        "train_df['geometry'].to_crs(crs=3857).area #print the area values for each polygon"
      ],
      "metadata": {
        "colab": {
          "base_uri": "https://localhost:8080/"
        },
        "id": "FP-CwMan2U6e",
        "outputId": "2dc3c80b-54d8-4fb6-f4a5-7e610b784fd4"
      },
      "execution_count": 328,
      "outputs": [
        {
          "output_type": "execute_result",
          "data": {
            "text/plain": [
              "0        19696.329229\n",
              "1         7485.095575\n",
              "2         7222.892931\n",
              "3         4674.921704\n",
              "4         4625.352291\n",
              "             ...     \n",
              "19991     9277.218634\n",
              "19992      347.791658\n",
              "19993     2567.121478\n",
              "19994     1783.097894\n",
              "19995      856.372844\n",
              "Length: 19996, dtype: float64"
            ]
          },
          "metadata": {},
          "execution_count": 328
        }
      ]
    },
    {
      "cell_type": "code",
      "source": [
        "train_df['geometry'].to_crs(crs=3857).length #print the length values for each polygon"
      ],
      "metadata": {
        "colab": {
          "base_uri": "https://localhost:8080/"
        },
        "id": "92xq_78a3nqG",
        "outputId": "53e5e472-b6ad-43be-8145-f70fa9013e9c"
      },
      "execution_count": 329,
      "outputs": [
        {
          "output_type": "execute_result",
          "data": {
            "text/plain": [
              "0        755.370237\n",
              "1        385.791590\n",
              "2        380.821486\n",
              "3        308.690960\n",
              "4        308.903385\n",
              "            ...    \n",
              "19991    477.217792\n",
              "19992     74.922370\n",
              "19993    248.087744\n",
              "19994    174.483445\n",
              "19995    123.537916\n",
              "Length: 19996, dtype: float64"
            ]
          },
          "metadata": {},
          "execution_count": 329
        }
      ]
    },
    {
      "cell_type": "markdown",
      "source": [
        "Then we functionize the above method so that after calling this function, we will get the concatenated dataframe of geometric features : `area` and `length`"
      ],
      "metadata": {
        "id": "puMb2XcoVwIc"
      }
    },
    {
      "cell_type": "code",
      "source": [
        "def polygon_extractor(df):\n",
        "    geometry_col = df['geometry'].to_crs(crs=3857) #make sure we transform CRS to meter unit\n",
        "\n",
        "    area_df = pd.DataFrame(data = geometry_col.area,\n",
        "                            columns = [\"area\"],\n",
        "                            index= df.index)\n",
        "    \n",
        "    length_df = pd.DataFrame(data = geometry_col.length,\n",
        "                            columns = [\"length\"],\n",
        "                            index= df.index)\n",
        "    \n",
        "    concat_df =  pd.concat([area_df, length_df], axis=1)\n",
        "    \n",
        "    return concat_df\n",
        "\n"
      ],
      "metadata": {
        "id": "ExumcHwT5K4t"
      },
      "execution_count": 348,
      "outputs": []
    },
    {
      "cell_type": "code",
      "source": [
        "# Show the example of the returned dataframe from calling the polygon_extractor()\n",
        "polygon_extractor_df = polygon_extractor(train_df)\n",
        "polygon_extractor_df.head()"
      ],
      "metadata": {
        "colab": {
          "base_uri": "https://localhost:8080/",
          "height": 204
        },
        "id": "wIkUQrh-5K7z",
        "outputId": "ffa40c5a-5383-49a6-c5ef-da4a5837f5c8"
      },
      "execution_count": 405,
      "outputs": [
        {
          "output_type": "execute_result",
          "data": {
            "text/plain": [
              "           area      length\n",
              "0  19696.329229  755.370237\n",
              "1   7485.095575  385.791590\n",
              "2   7222.892931  380.821486\n",
              "3   4674.921704  308.690960\n",
              "4   4625.352291  308.903385"
            ],
            "text/html": [
              "\n",
              "  <div id=\"df-f32d8c82-2a85-4911-9bc3-8e8af9b42758\">\n",
              "    <div class=\"colab-df-container\">\n",
              "      <div>\n",
              "<style scoped>\n",
              "    .dataframe tbody tr th:only-of-type {\n",
              "        vertical-align: middle;\n",
              "    }\n",
              "\n",
              "    .dataframe tbody tr th {\n",
              "        vertical-align: top;\n",
              "    }\n",
              "\n",
              "    .dataframe thead th {\n",
              "        text-align: right;\n",
              "    }\n",
              "</style>\n",
              "<table border=\"1\" class=\"dataframe\">\n",
              "  <thead>\n",
              "    <tr style=\"text-align: right;\">\n",
              "      <th></th>\n",
              "      <th>area</th>\n",
              "      <th>length</th>\n",
              "    </tr>\n",
              "  </thead>\n",
              "  <tbody>\n",
              "    <tr>\n",
              "      <th>0</th>\n",
              "      <td>19696.329229</td>\n",
              "      <td>755.370237</td>\n",
              "    </tr>\n",
              "    <tr>\n",
              "      <th>1</th>\n",
              "      <td>7485.095575</td>\n",
              "      <td>385.791590</td>\n",
              "    </tr>\n",
              "    <tr>\n",
              "      <th>2</th>\n",
              "      <td>7222.892931</td>\n",
              "      <td>380.821486</td>\n",
              "    </tr>\n",
              "    <tr>\n",
              "      <th>3</th>\n",
              "      <td>4674.921704</td>\n",
              "      <td>308.690960</td>\n",
              "    </tr>\n",
              "    <tr>\n",
              "      <th>4</th>\n",
              "      <td>4625.352291</td>\n",
              "      <td>308.903385</td>\n",
              "    </tr>\n",
              "  </tbody>\n",
              "</table>\n",
              "</div>\n",
              "      <button class=\"colab-df-convert\" onclick=\"convertToInteractive('df-f32d8c82-2a85-4911-9bc3-8e8af9b42758')\"\n",
              "              title=\"Convert this dataframe to an interactive table.\"\n",
              "              style=\"display:none;\">\n",
              "        \n",
              "  <svg xmlns=\"http://www.w3.org/2000/svg\" height=\"24px\"viewBox=\"0 0 24 24\"\n",
              "       width=\"24px\">\n",
              "    <path d=\"M0 0h24v24H0V0z\" fill=\"none\"/>\n",
              "    <path d=\"M18.56 5.44l.94 2.06.94-2.06 2.06-.94-2.06-.94-.94-2.06-.94 2.06-2.06.94zm-11 1L8.5 8.5l.94-2.06 2.06-.94-2.06-.94L8.5 2.5l-.94 2.06-2.06.94zm10 10l.94 2.06.94-2.06 2.06-.94-2.06-.94-.94-2.06-.94 2.06-2.06.94z\"/><path d=\"M17.41 7.96l-1.37-1.37c-.4-.4-.92-.59-1.43-.59-.52 0-1.04.2-1.43.59L10.3 9.45l-7.72 7.72c-.78.78-.78 2.05 0 2.83L4 21.41c.39.39.9.59 1.41.59.51 0 1.02-.2 1.41-.59l7.78-7.78 2.81-2.81c.8-.78.8-2.07 0-2.86zM5.41 20L4 18.59l7.72-7.72 1.47 1.35L5.41 20z\"/>\n",
              "  </svg>\n",
              "      </button>\n",
              "      \n",
              "  <style>\n",
              "    .colab-df-container {\n",
              "      display:flex;\n",
              "      flex-wrap:wrap;\n",
              "      gap: 12px;\n",
              "    }\n",
              "\n",
              "    .colab-df-convert {\n",
              "      background-color: #E8F0FE;\n",
              "      border: none;\n",
              "      border-radius: 50%;\n",
              "      cursor: pointer;\n",
              "      display: none;\n",
              "      fill: #1967D2;\n",
              "      height: 32px;\n",
              "      padding: 0 0 0 0;\n",
              "      width: 32px;\n",
              "    }\n",
              "\n",
              "    .colab-df-convert:hover {\n",
              "      background-color: #E2EBFA;\n",
              "      box-shadow: 0px 1px 2px rgba(60, 64, 67, 0.3), 0px 1px 3px 1px rgba(60, 64, 67, 0.15);\n",
              "      fill: #174EA6;\n",
              "    }\n",
              "\n",
              "    [theme=dark] .colab-df-convert {\n",
              "      background-color: #3B4455;\n",
              "      fill: #D2E3FC;\n",
              "    }\n",
              "\n",
              "    [theme=dark] .colab-df-convert:hover {\n",
              "      background-color: #434B5C;\n",
              "      box-shadow: 0px 1px 3px 1px rgba(0, 0, 0, 0.15);\n",
              "      filter: drop-shadow(0px 1px 2px rgba(0, 0, 0, 0.3));\n",
              "      fill: #FFFFFF;\n",
              "    }\n",
              "  </style>\n",
              "\n",
              "      <script>\n",
              "        const buttonEl =\n",
              "          document.querySelector('#df-f32d8c82-2a85-4911-9bc3-8e8af9b42758 button.colab-df-convert');\n",
              "        buttonEl.style.display =\n",
              "          google.colab.kernel.accessAllowed ? 'block' : 'none';\n",
              "\n",
              "        async function convertToInteractive(key) {\n",
              "          const element = document.querySelector('#df-f32d8c82-2a85-4911-9bc3-8e8af9b42758');\n",
              "          const dataTable =\n",
              "            await google.colab.kernel.invokeFunction('convertToInteractive',\n",
              "                                                     [key], {});\n",
              "          if (!dataTable) return;\n",
              "\n",
              "          const docLinkHtml = 'Like what you see? Visit the ' +\n",
              "            '<a target=\"_blank\" href=https://colab.research.google.com/notebooks/data_table.ipynb>data table notebook</a>'\n",
              "            + ' to learn more about interactive tables.';\n",
              "          element.innerHTML = '';\n",
              "          dataTable['output_type'] = 'display_data';\n",
              "          await google.colab.output.renderOutput(dataTable, element);\n",
              "          const docLink = document.createElement('div');\n",
              "          docLink.innerHTML = docLinkHtml;\n",
              "          element.appendChild(docLink);\n",
              "        }\n",
              "      </script>\n",
              "    </div>\n",
              "  </div>\n",
              "  "
            ]
          },
          "metadata": {},
          "execution_count": 405
        }
      ]
    },
    {
      "cell_type": "markdown",
      "source": [
        "## FEATURE ENGINEERING 3\n",
        "## Number of days between two consecutive date"
      ],
      "metadata": {
        "id": "Yn1EW38H61yZ"
      }
    },
    {
      "cell_type": "code",
      "source": [
        "date_cols = train_df.columns[7: 12] # extract the columns name of [date1, date2, date3] to the list\n",
        "end_date_idx = 1\n",
        "start_date_idx = 0\n",
        "\n",
        "concat_df = []\n",
        "\n",
        "# Perform for loop to compute the date difference in absolute unit. As there are 5 days, there is 4 intervals to keep track of\n",
        "for date_idx in range(4): # range of 4 because of 4 intervals\n",
        "    train_df[[date_cols[start_date_idx], date_cols[end_date_idx]]] = train_df[[date_cols[start_date_idx], date_cols[end_date_idx]]] .apply(pd.to_datetime) # must transform the string format to pd.datetime for valid computation\n",
        "    date_diff = pd.DataFrame(np.abs((train_df[date_cols[start_date_idx]] - train_df[date_cols[end_date_idx]]) / np.timedelta64(1, 'D')),\n",
        "                             columns = [f'datediff_{date_idx+1}'])\n",
        "    end_date_idx +=1\n",
        "    start_date_idx +=1\n",
        "    concat_df.append(date_diff)"
      ],
      "metadata": {
        "id": "DYmuF_xf65Bx"
      },
      "execution_count": 393,
      "outputs": []
    },
    {
      "cell_type": "markdown",
      "source": [
        "Now we turn the test code into a function for later user again."
      ],
      "metadata": {
        "id": "iqMeLYXWWgCw"
      }
    },
    {
      "cell_type": "code",
      "source": [
        "def compute_date_diff(df):\n",
        "    date_cols = ['date1', 'date2', 'date3', 'date4', 'date5'] # extract the columns name of [date1, date2, date3] to the list\n",
        "    end_date_idx = 1\n",
        "    start_date_idx = 0\n",
        "\n",
        "    concat_df = []\n",
        "\n",
        "    # Perform for loop to compute the date difference in absolute unit. As there are 5 days, there is 4 intervals to keep track of\n",
        "    for date_idx in range(4): # range of 4 because of 4 intervals\n",
        "        df[[date_cols[start_date_idx], date_cols[end_date_idx]]] = df[[date_cols[start_date_idx], date_cols[end_date_idx]]] .apply(pd.to_datetime) # must transform the string format to pd.datetime for valid computation\n",
        "        date_diff = pd.DataFrame(np.abs((df[date_cols[start_date_idx]] - df[date_cols[end_date_idx]]) / np.timedelta64(1, 'D')),\n",
        "                                columns = [f'datediff_{date_idx+1}'])\n",
        "        end_date_idx +=1\n",
        "        start_date_idx +=1\n",
        "        concat_df.append(date_diff)\n",
        "\n",
        "    return pd.concat(concat_df, axis = 1)"
      ],
      "metadata": {
        "id": "PS3xUrkqH4Yb"
      },
      "execution_count": 471,
      "outputs": []
    },
    {
      "cell_type": "code",
      "source": [
        "date_diff_df = compute_date_diff(train_df)\n",
        "date_diff_df.head()"
      ],
      "metadata": {
        "colab": {
          "base_uri": "https://localhost:8080/",
          "height": 204
        },
        "id": "EXJ_XBKG_mRD",
        "outputId": "dd21fc27-eb53-49fe-d313-aacfca364174"
      },
      "execution_count": 472,
      "outputs": [
        {
          "output_type": "execute_result",
          "data": {
            "text/plain": [
              "   datediff_1  datediff_2  datediff_3  datediff_4\n",
              "0       472.0       531.0       592.0       587.0\n",
              "1       472.0       531.0       592.0       587.0\n",
              "2       472.0       531.0       592.0       587.0\n",
              "3       472.0       531.0       592.0       587.0\n",
              "4       472.0       531.0       592.0       587.0"
            ],
            "text/html": [
              "\n",
              "  <div id=\"df-3df456b5-b07e-477b-847f-7acb50ea4cb7\">\n",
              "    <div class=\"colab-df-container\">\n",
              "      <div>\n",
              "<style scoped>\n",
              "    .dataframe tbody tr th:only-of-type {\n",
              "        vertical-align: middle;\n",
              "    }\n",
              "\n",
              "    .dataframe tbody tr th {\n",
              "        vertical-align: top;\n",
              "    }\n",
              "\n",
              "    .dataframe thead th {\n",
              "        text-align: right;\n",
              "    }\n",
              "</style>\n",
              "<table border=\"1\" class=\"dataframe\">\n",
              "  <thead>\n",
              "    <tr style=\"text-align: right;\">\n",
              "      <th></th>\n",
              "      <th>datediff_1</th>\n",
              "      <th>datediff_2</th>\n",
              "      <th>datediff_3</th>\n",
              "      <th>datediff_4</th>\n",
              "    </tr>\n",
              "  </thead>\n",
              "  <tbody>\n",
              "    <tr>\n",
              "      <th>0</th>\n",
              "      <td>472.0</td>\n",
              "      <td>531.0</td>\n",
              "      <td>592.0</td>\n",
              "      <td>587.0</td>\n",
              "    </tr>\n",
              "    <tr>\n",
              "      <th>1</th>\n",
              "      <td>472.0</td>\n",
              "      <td>531.0</td>\n",
              "      <td>592.0</td>\n",
              "      <td>587.0</td>\n",
              "    </tr>\n",
              "    <tr>\n",
              "      <th>2</th>\n",
              "      <td>472.0</td>\n",
              "      <td>531.0</td>\n",
              "      <td>592.0</td>\n",
              "      <td>587.0</td>\n",
              "    </tr>\n",
              "    <tr>\n",
              "      <th>3</th>\n",
              "      <td>472.0</td>\n",
              "      <td>531.0</td>\n",
              "      <td>592.0</td>\n",
              "      <td>587.0</td>\n",
              "    </tr>\n",
              "    <tr>\n",
              "      <th>4</th>\n",
              "      <td>472.0</td>\n",
              "      <td>531.0</td>\n",
              "      <td>592.0</td>\n",
              "      <td>587.0</td>\n",
              "    </tr>\n",
              "  </tbody>\n",
              "</table>\n",
              "</div>\n",
              "      <button class=\"colab-df-convert\" onclick=\"convertToInteractive('df-3df456b5-b07e-477b-847f-7acb50ea4cb7')\"\n",
              "              title=\"Convert this dataframe to an interactive table.\"\n",
              "              style=\"display:none;\">\n",
              "        \n",
              "  <svg xmlns=\"http://www.w3.org/2000/svg\" height=\"24px\"viewBox=\"0 0 24 24\"\n",
              "       width=\"24px\">\n",
              "    <path d=\"M0 0h24v24H0V0z\" fill=\"none\"/>\n",
              "    <path d=\"M18.56 5.44l.94 2.06.94-2.06 2.06-.94-2.06-.94-.94-2.06-.94 2.06-2.06.94zm-11 1L8.5 8.5l.94-2.06 2.06-.94-2.06-.94L8.5 2.5l-.94 2.06-2.06.94zm10 10l.94 2.06.94-2.06 2.06-.94-2.06-.94-.94-2.06-.94 2.06-2.06.94z\"/><path d=\"M17.41 7.96l-1.37-1.37c-.4-.4-.92-.59-1.43-.59-.52 0-1.04.2-1.43.59L10.3 9.45l-7.72 7.72c-.78.78-.78 2.05 0 2.83L4 21.41c.39.39.9.59 1.41.59.51 0 1.02-.2 1.41-.59l7.78-7.78 2.81-2.81c.8-.78.8-2.07 0-2.86zM5.41 20L4 18.59l7.72-7.72 1.47 1.35L5.41 20z\"/>\n",
              "  </svg>\n",
              "      </button>\n",
              "      \n",
              "  <style>\n",
              "    .colab-df-container {\n",
              "      display:flex;\n",
              "      flex-wrap:wrap;\n",
              "      gap: 12px;\n",
              "    }\n",
              "\n",
              "    .colab-df-convert {\n",
              "      background-color: #E8F0FE;\n",
              "      border: none;\n",
              "      border-radius: 50%;\n",
              "      cursor: pointer;\n",
              "      display: none;\n",
              "      fill: #1967D2;\n",
              "      height: 32px;\n",
              "      padding: 0 0 0 0;\n",
              "      width: 32px;\n",
              "    }\n",
              "\n",
              "    .colab-df-convert:hover {\n",
              "      background-color: #E2EBFA;\n",
              "      box-shadow: 0px 1px 2px rgba(60, 64, 67, 0.3), 0px 1px 3px 1px rgba(60, 64, 67, 0.15);\n",
              "      fill: #174EA6;\n",
              "    }\n",
              "\n",
              "    [theme=dark] .colab-df-convert {\n",
              "      background-color: #3B4455;\n",
              "      fill: #D2E3FC;\n",
              "    }\n",
              "\n",
              "    [theme=dark] .colab-df-convert:hover {\n",
              "      background-color: #434B5C;\n",
              "      box-shadow: 0px 1px 3px 1px rgba(0, 0, 0, 0.15);\n",
              "      filter: drop-shadow(0px 1px 2px rgba(0, 0, 0, 0.3));\n",
              "      fill: #FFFFFF;\n",
              "    }\n",
              "  </style>\n",
              "\n",
              "      <script>\n",
              "        const buttonEl =\n",
              "          document.querySelector('#df-3df456b5-b07e-477b-847f-7acb50ea4cb7 button.colab-df-convert');\n",
              "        buttonEl.style.display =\n",
              "          google.colab.kernel.accessAllowed ? 'block' : 'none';\n",
              "\n",
              "        async function convertToInteractive(key) {\n",
              "          const element = document.querySelector('#df-3df456b5-b07e-477b-847f-7acb50ea4cb7');\n",
              "          const dataTable =\n",
              "            await google.colab.kernel.invokeFunction('convertToInteractive',\n",
              "                                                     [key], {});\n",
              "          if (!dataTable) return;\n",
              "\n",
              "          const docLinkHtml = 'Like what you see? Visit the ' +\n",
              "            '<a target=\"_blank\" href=https://colab.research.google.com/notebooks/data_table.ipynb>data table notebook</a>'\n",
              "            + ' to learn more about interactive tables.';\n",
              "          element.innerHTML = '';\n",
              "          dataTable['output_type'] = 'display_data';\n",
              "          await google.colab.output.renderOutput(dataTable, element);\n",
              "          const docLink = document.createElement('div');\n",
              "          docLink.innerHTML = docLinkHtml;\n",
              "          element.appendChild(docLink);\n",
              "        }\n",
              "      </script>\n",
              "    </div>\n",
              "  </div>\n",
              "  "
            ]
          },
          "metadata": {},
          "execution_count": 472
        }
      ]
    },
    {
      "cell_type": "markdown",
      "source": [
        "## Now that we have achieved three feature engineering and extraction, we are going to merge all these 3 dataframes into the main dataset for classificaiton"
      ],
      "metadata": {
        "id": "UuI-dWBdBIcj"
      }
    },
    {
      "cell_type": "code",
      "source": [
        "print(laberized_df.shape, polygon_extractor_df.shape, date_diff_df.shape)"
      ],
      "metadata": {
        "colab": {
          "base_uri": "https://localhost:8080/"
        },
        "id": "pSZVzE7s8xIz",
        "outputId": "bbfef175-3520-4aa2-dcde-4f04fe2bc452"
      },
      "execution_count": 406,
      "outputs": [
        {
          "output_type": "stream",
          "name": "stdout",
          "text": [
            "(19996, 17) (19996, 2) (19996, 4)\n"
          ]
        }
      ]
    },
    {
      "cell_type": "code",
      "source": [
        "# let's call the concatenated df as `main_df`\n",
        "main_df = pd.concat([laberized_df, polygon_extractor_df, date_diff_df ], axis= 1)\n",
        "print(main_df.shape)\n",
        "main_df.head()"
      ],
      "metadata": {
        "colab": {
          "base_uri": "https://localhost:8080/",
          "height": 331
        },
        "id": "Ucx94wbk65Eg",
        "outputId": "f31f88c9-be58-421e-c3df-66b28b14a641"
      },
      "execution_count": 410,
      "outputs": [
        {
          "output_type": "stream",
          "name": "stdout",
          "text": [
            "(19996, 23)\n"
          ]
        },
        {
          "output_type": "execute_result",
          "data": {
            "text/plain": [
              "   Dense Urban  Industrial  None  Rural  Sparse Urban  Urban Slum  \\\n",
              "0            0           1     0      0             0           0   \n",
              "1            0           0     0      0             1           0   \n",
              "2            0           0     0      0             1           0   \n",
              "3            0           1     0      0             0           0   \n",
              "4            0           1     0      0             0           0   \n",
              "\n",
              "   Barren Land  Coastal  Dense Forest  Desert  ...  Lakes  None  River  \\\n",
              "0            0        0             0       0  ...      0     0      1   \n",
              "1            0        0             0       0  ...      0     0      0   \n",
              "2            0        0             0       0  ...      0     0      0   \n",
              "3            0        0             0       0  ...      0     0      1   \n",
              "4            0        0             0       0  ...      0     0      1   \n",
              "\n",
              "   Sparse Forest          area      length  datediff_1  datediff_2  \\\n",
              "0              1  19696.329229  755.370237       472.0       531.0   \n",
              "1              1   7485.095575  385.791590       472.0       531.0   \n",
              "2              1   7222.892931  380.821486       472.0       531.0   \n",
              "3              1   4674.921704  308.690960       472.0       531.0   \n",
              "4              1   4625.352291  308.903385       472.0       531.0   \n",
              "\n",
              "   datediff_3  datediff_4  \n",
              "0       592.0       587.0  \n",
              "1       592.0       587.0  \n",
              "2       592.0       587.0  \n",
              "3       592.0       587.0  \n",
              "4       592.0       587.0  \n",
              "\n",
              "[5 rows x 23 columns]"
            ],
            "text/html": [
              "\n",
              "  <div id=\"df-eec7ca53-e264-41aa-a40c-fef4fd72a19a\">\n",
              "    <div class=\"colab-df-container\">\n",
              "      <div>\n",
              "<style scoped>\n",
              "    .dataframe tbody tr th:only-of-type {\n",
              "        vertical-align: middle;\n",
              "    }\n",
              "\n",
              "    .dataframe tbody tr th {\n",
              "        vertical-align: top;\n",
              "    }\n",
              "\n",
              "    .dataframe thead th {\n",
              "        text-align: right;\n",
              "    }\n",
              "</style>\n",
              "<table border=\"1\" class=\"dataframe\">\n",
              "  <thead>\n",
              "    <tr style=\"text-align: right;\">\n",
              "      <th></th>\n",
              "      <th>Dense Urban</th>\n",
              "      <th>Industrial</th>\n",
              "      <th>None</th>\n",
              "      <th>Rural</th>\n",
              "      <th>Sparse Urban</th>\n",
              "      <th>Urban Slum</th>\n",
              "      <th>Barren Land</th>\n",
              "      <th>Coastal</th>\n",
              "      <th>Dense Forest</th>\n",
              "      <th>Desert</th>\n",
              "      <th>...</th>\n",
              "      <th>Lakes</th>\n",
              "      <th>None</th>\n",
              "      <th>River</th>\n",
              "      <th>Sparse Forest</th>\n",
              "      <th>area</th>\n",
              "      <th>length</th>\n",
              "      <th>datediff_1</th>\n",
              "      <th>datediff_2</th>\n",
              "      <th>datediff_3</th>\n",
              "      <th>datediff_4</th>\n",
              "    </tr>\n",
              "  </thead>\n",
              "  <tbody>\n",
              "    <tr>\n",
              "      <th>0</th>\n",
              "      <td>0</td>\n",
              "      <td>1</td>\n",
              "      <td>0</td>\n",
              "      <td>0</td>\n",
              "      <td>0</td>\n",
              "      <td>0</td>\n",
              "      <td>0</td>\n",
              "      <td>0</td>\n",
              "      <td>0</td>\n",
              "      <td>0</td>\n",
              "      <td>...</td>\n",
              "      <td>0</td>\n",
              "      <td>0</td>\n",
              "      <td>1</td>\n",
              "      <td>1</td>\n",
              "      <td>19696.329229</td>\n",
              "      <td>755.370237</td>\n",
              "      <td>472.0</td>\n",
              "      <td>531.0</td>\n",
              "      <td>592.0</td>\n",
              "      <td>587.0</td>\n",
              "    </tr>\n",
              "    <tr>\n",
              "      <th>1</th>\n",
              "      <td>0</td>\n",
              "      <td>0</td>\n",
              "      <td>0</td>\n",
              "      <td>0</td>\n",
              "      <td>1</td>\n",
              "      <td>0</td>\n",
              "      <td>0</td>\n",
              "      <td>0</td>\n",
              "      <td>0</td>\n",
              "      <td>0</td>\n",
              "      <td>...</td>\n",
              "      <td>0</td>\n",
              "      <td>0</td>\n",
              "      <td>0</td>\n",
              "      <td>1</td>\n",
              "      <td>7485.095575</td>\n",
              "      <td>385.791590</td>\n",
              "      <td>472.0</td>\n",
              "      <td>531.0</td>\n",
              "      <td>592.0</td>\n",
              "      <td>587.0</td>\n",
              "    </tr>\n",
              "    <tr>\n",
              "      <th>2</th>\n",
              "      <td>0</td>\n",
              "      <td>0</td>\n",
              "      <td>0</td>\n",
              "      <td>0</td>\n",
              "      <td>1</td>\n",
              "      <td>0</td>\n",
              "      <td>0</td>\n",
              "      <td>0</td>\n",
              "      <td>0</td>\n",
              "      <td>0</td>\n",
              "      <td>...</td>\n",
              "      <td>0</td>\n",
              "      <td>0</td>\n",
              "      <td>0</td>\n",
              "      <td>1</td>\n",
              "      <td>7222.892931</td>\n",
              "      <td>380.821486</td>\n",
              "      <td>472.0</td>\n",
              "      <td>531.0</td>\n",
              "      <td>592.0</td>\n",
              "      <td>587.0</td>\n",
              "    </tr>\n",
              "    <tr>\n",
              "      <th>3</th>\n",
              "      <td>0</td>\n",
              "      <td>1</td>\n",
              "      <td>0</td>\n",
              "      <td>0</td>\n",
              "      <td>0</td>\n",
              "      <td>0</td>\n",
              "      <td>0</td>\n",
              "      <td>0</td>\n",
              "      <td>0</td>\n",
              "      <td>0</td>\n",
              "      <td>...</td>\n",
              "      <td>0</td>\n",
              "      <td>0</td>\n",
              "      <td>1</td>\n",
              "      <td>1</td>\n",
              "      <td>4674.921704</td>\n",
              "      <td>308.690960</td>\n",
              "      <td>472.0</td>\n",
              "      <td>531.0</td>\n",
              "      <td>592.0</td>\n",
              "      <td>587.0</td>\n",
              "    </tr>\n",
              "    <tr>\n",
              "      <th>4</th>\n",
              "      <td>0</td>\n",
              "      <td>1</td>\n",
              "      <td>0</td>\n",
              "      <td>0</td>\n",
              "      <td>0</td>\n",
              "      <td>0</td>\n",
              "      <td>0</td>\n",
              "      <td>0</td>\n",
              "      <td>0</td>\n",
              "      <td>0</td>\n",
              "      <td>...</td>\n",
              "      <td>0</td>\n",
              "      <td>0</td>\n",
              "      <td>1</td>\n",
              "      <td>1</td>\n",
              "      <td>4625.352291</td>\n",
              "      <td>308.903385</td>\n",
              "      <td>472.0</td>\n",
              "      <td>531.0</td>\n",
              "      <td>592.0</td>\n",
              "      <td>587.0</td>\n",
              "    </tr>\n",
              "  </tbody>\n",
              "</table>\n",
              "<p>5 rows × 23 columns</p>\n",
              "</div>\n",
              "      <button class=\"colab-df-convert\" onclick=\"convertToInteractive('df-eec7ca53-e264-41aa-a40c-fef4fd72a19a')\"\n",
              "              title=\"Convert this dataframe to an interactive table.\"\n",
              "              style=\"display:none;\">\n",
              "        \n",
              "  <svg xmlns=\"http://www.w3.org/2000/svg\" height=\"24px\"viewBox=\"0 0 24 24\"\n",
              "       width=\"24px\">\n",
              "    <path d=\"M0 0h24v24H0V0z\" fill=\"none\"/>\n",
              "    <path d=\"M18.56 5.44l.94 2.06.94-2.06 2.06-.94-2.06-.94-.94-2.06-.94 2.06-2.06.94zm-11 1L8.5 8.5l.94-2.06 2.06-.94-2.06-.94L8.5 2.5l-.94 2.06-2.06.94zm10 10l.94 2.06.94-2.06 2.06-.94-2.06-.94-.94-2.06-.94 2.06-2.06.94z\"/><path d=\"M17.41 7.96l-1.37-1.37c-.4-.4-.92-.59-1.43-.59-.52 0-1.04.2-1.43.59L10.3 9.45l-7.72 7.72c-.78.78-.78 2.05 0 2.83L4 21.41c.39.39.9.59 1.41.59.51 0 1.02-.2 1.41-.59l7.78-7.78 2.81-2.81c.8-.78.8-2.07 0-2.86zM5.41 20L4 18.59l7.72-7.72 1.47 1.35L5.41 20z\"/>\n",
              "  </svg>\n",
              "      </button>\n",
              "      \n",
              "  <style>\n",
              "    .colab-df-container {\n",
              "      display:flex;\n",
              "      flex-wrap:wrap;\n",
              "      gap: 12px;\n",
              "    }\n",
              "\n",
              "    .colab-df-convert {\n",
              "      background-color: #E8F0FE;\n",
              "      border: none;\n",
              "      border-radius: 50%;\n",
              "      cursor: pointer;\n",
              "      display: none;\n",
              "      fill: #1967D2;\n",
              "      height: 32px;\n",
              "      padding: 0 0 0 0;\n",
              "      width: 32px;\n",
              "    }\n",
              "\n",
              "    .colab-df-convert:hover {\n",
              "      background-color: #E2EBFA;\n",
              "      box-shadow: 0px 1px 2px rgba(60, 64, 67, 0.3), 0px 1px 3px 1px rgba(60, 64, 67, 0.15);\n",
              "      fill: #174EA6;\n",
              "    }\n",
              "\n",
              "    [theme=dark] .colab-df-convert {\n",
              "      background-color: #3B4455;\n",
              "      fill: #D2E3FC;\n",
              "    }\n",
              "\n",
              "    [theme=dark] .colab-df-convert:hover {\n",
              "      background-color: #434B5C;\n",
              "      box-shadow: 0px 1px 3px 1px rgba(0, 0, 0, 0.15);\n",
              "      filter: drop-shadow(0px 1px 2px rgba(0, 0, 0, 0.3));\n",
              "      fill: #FFFFFF;\n",
              "    }\n",
              "  </style>\n",
              "\n",
              "      <script>\n",
              "        const buttonEl =\n",
              "          document.querySelector('#df-eec7ca53-e264-41aa-a40c-fef4fd72a19a button.colab-df-convert');\n",
              "        buttonEl.style.display =\n",
              "          google.colab.kernel.accessAllowed ? 'block' : 'none';\n",
              "\n",
              "        async function convertToInteractive(key) {\n",
              "          const element = document.querySelector('#df-eec7ca53-e264-41aa-a40c-fef4fd72a19a');\n",
              "          const dataTable =\n",
              "            await google.colab.kernel.invokeFunction('convertToInteractive',\n",
              "                                                     [key], {});\n",
              "          if (!dataTable) return;\n",
              "\n",
              "          const docLinkHtml = 'Like what you see? Visit the ' +\n",
              "            '<a target=\"_blank\" href=https://colab.research.google.com/notebooks/data_table.ipynb>data table notebook</a>'\n",
              "            + ' to learn more about interactive tables.';\n",
              "          element.innerHTML = '';\n",
              "          dataTable['output_type'] = 'display_data';\n",
              "          await google.colab.output.renderOutput(dataTable, element);\n",
              "          const docLink = document.createElement('div');\n",
              "          docLink.innerHTML = docLinkHtml;\n",
              "          element.appendChild(docLink);\n",
              "        }\n",
              "      </script>\n",
              "    </div>\n",
              "  </div>\n",
              "  "
            ]
          },
          "metadata": {},
          "execution_count": 410
        }
      ]
    },
    {
      "cell_type": "markdown",
      "source": [
        " # Training the model by splitting the dataset into training and validation set"
      ],
      "metadata": {
        "id": "mrJP4du2B9Rj"
      }
    },
    {
      "cell_type": "code",
      "source": [
        "change_type_map = {'Demolition': 0, 'Road': 1, 'Residential': 2, 'Commercial': 3, 'Industrial': 4,\n",
        "       'Mega Projects': 5}\n",
        "train_y = train_df['change_type'].apply(lambda x: change_type_map[x])"
      ],
      "metadata": {
        "id": "qCpd1DubCS7E"
      },
      "execution_count": 412,
      "outputs": []
    },
    {
      "cell_type": "code",
      "source": [
        "X_train, X_test, val_train, val_test = train_test_split(main_df, train_y,\n",
        "                                                    test_size =0.2, random_state=42)\n",
        "\n",
        "print(X_train.shape, X_test.shape, val_train.shape, val_test.shape)"
      ],
      "metadata": {
        "colab": {
          "base_uri": "https://localhost:8080/"
        },
        "id": "7OHLhYk5qjgM",
        "outputId": "dd91a9cb-1392-4cfa-ce25-9a4714b177c5"
      },
      "execution_count": 414,
      "outputs": [
        {
          "output_type": "stream",
          "name": "stdout",
          "text": [
            "(15996, 23) (4000, 23) (15996,) (4000,)\n"
          ]
        }
      ]
    },
    {
      "cell_type": "markdown",
      "source": [
        "## 1st Classfication model: SVM"
      ],
      "metadata": {
        "id": "qb5ar2o2Cc4g"
      }
    },
    {
      "cell_type": "code",
      "source": [
        "from sklearn.svm import SVC\n",
        "\n",
        "svc_classifer = SVC(kernel = 'rbf')\n",
        "svc_classifer.fit(X_train, val_train)\n",
        "pred_y = svc_classifer.predict(X_test)"
      ],
      "metadata": {
        "id": "j1jmxGpCq53E"
      },
      "execution_count": 419,
      "outputs": []
    },
    {
      "cell_type": "code",
      "source": [
        "print(classification_report(y_true = val_test,\n",
        "                      y_pred = pred_y))"
      ],
      "metadata": {
        "colab": {
          "base_uri": "https://localhost:8080/"
        },
        "id": "PBUlMZmkrXHM",
        "outputId": "e6651ff9-fc9d-4f84-8678-83b41c76dab1"
      },
      "execution_count": 420,
      "outputs": [
        {
          "output_type": "stream",
          "name": "stdout",
          "text": [
            "              precision    recall  f1-score   support\n",
            "\n",
            "           0       0.00      0.00      0.00       443\n",
            "           1       0.75      0.02      0.04       150\n",
            "           2       0.62      0.84      0.71      1986\n",
            "           3       0.52      0.48      0.50      1417\n",
            "           4       0.00      0.00      0.00         3\n",
            "           5       0.00      0.00      0.00         1\n",
            "\n",
            "    accuracy                           0.59      4000\n",
            "   macro avg       0.32      0.22      0.21      4000\n",
            "weighted avg       0.52      0.59      0.53      4000\n",
            "\n"
          ]
        },
        {
          "output_type": "stream",
          "name": "stderr",
          "text": [
            "/usr/local/lib/python3.8/dist-packages/sklearn/metrics/_classification.py:1318: UndefinedMetricWarning: Precision and F-score are ill-defined and being set to 0.0 in labels with no predicted samples. Use `zero_division` parameter to control this behavior.\n",
            "  _warn_prf(average, modifier, msg_start, len(result))\n",
            "/usr/local/lib/python3.8/dist-packages/sklearn/metrics/_classification.py:1318: UndefinedMetricWarning: Precision and F-score are ill-defined and being set to 0.0 in labels with no predicted samples. Use `zero_division` parameter to control this behavior.\n",
            "  _warn_prf(average, modifier, msg_start, len(result))\n",
            "/usr/local/lib/python3.8/dist-packages/sklearn/metrics/_classification.py:1318: UndefinedMetricWarning: Precision and F-score are ill-defined and being set to 0.0 in labels with no predicted samples. Use `zero_division` parameter to control this behavior.\n",
            "  _warn_prf(average, modifier, msg_start, len(result))\n"
          ]
        }
      ]
    },
    {
      "cell_type": "markdown",
      "source": [
        "## 2nd: Classfication model: KNearestNeighbors"
      ],
      "metadata": {
        "id": "0uOHpnnDW0Nh"
      }
    },
    {
      "cell_type": "code",
      "source": [
        "neigh = KNeighborsClassifier(n_neighbors=3)\n",
        "neigh.fit(X_train, val_train)\n",
        "pred_y = neigh.predict(X_test)\n",
        "\n",
        "\n",
        "print(classification_report(y_true = val_test,\n",
        "                      y_pred = pred_y))"
      ],
      "metadata": {
        "colab": {
          "base_uri": "https://localhost:8080/"
        },
        "id": "3FsZdovzW71E",
        "outputId": "4f194589-5399-4053-e838-302caa668fed"
      },
      "execution_count": 559,
      "outputs": [
        {
          "output_type": "stream",
          "name": "stdout",
          "text": [
            "              precision    recall  f1-score   support\n",
            "\n",
            "           0       0.31      0.41      0.35       443\n",
            "           1       0.57      0.45      0.51       150\n",
            "           2       0.73      0.74      0.74      1986\n",
            "           3       0.57      0.52      0.55      1417\n",
            "           4       0.00      0.00      0.00         3\n",
            "           5       0.00      0.00      0.00         1\n",
            "\n",
            "    accuracy                           0.61      4000\n",
            "   macro avg       0.36      0.35      0.36      4000\n",
            "weighted avg       0.62      0.61      0.62      4000\n",
            "\n"
          ]
        },
        {
          "output_type": "stream",
          "name": "stderr",
          "text": [
            "/usr/local/lib/python3.8/dist-packages/sklearn/metrics/_classification.py:1318: UndefinedMetricWarning: Precision and F-score are ill-defined and being set to 0.0 in labels with no predicted samples. Use `zero_division` parameter to control this behavior.\n",
            "  _warn_prf(average, modifier, msg_start, len(result))\n",
            "/usr/local/lib/python3.8/dist-packages/sklearn/metrics/_classification.py:1318: UndefinedMetricWarning: Precision and F-score are ill-defined and being set to 0.0 in labels with no predicted samples. Use `zero_division` parameter to control this behavior.\n",
            "  _warn_prf(average, modifier, msg_start, len(result))\n",
            "/usr/local/lib/python3.8/dist-packages/sklearn/metrics/_classification.py:1318: UndefinedMetricWarning: Precision and F-score are ill-defined and being set to 0.0 in labels with no predicted samples. Use `zero_division` parameter to control this behavior.\n",
            "  _warn_prf(average, modifier, msg_start, len(result))\n"
          ]
        }
      ]
    },
    {
      "cell_type": "markdown",
      "source": [
        "## 3rd: Classfication model: Random Forest"
      ],
      "metadata": {
        "id": "s0HlYd3VCyKM"
      }
    },
    {
      "cell_type": "code",
      "source": [
        "from sklearn.ensemble import RandomForestClassifier\n",
        "rdm_classifier = RandomForestClassifier()\n",
        "rdm_classifier.fit(X_train, val_train)\n",
        "pred_y = rdm_classifier.predict(X_test)\n",
        "\n",
        "print(classification_report(y_true = val_test,\n",
        "                      y_pred = pred_y))"
      ],
      "metadata": {
        "colab": {
          "base_uri": "https://localhost:8080/"
        },
        "id": "bqgsglbbrwlM",
        "outputId": "3196a498-072c-4bf3-94c0-b0878665c0be"
      },
      "execution_count": 566,
      "outputs": [
        {
          "output_type": "stream",
          "name": "stdout",
          "text": [
            "              precision    recall  f1-score   support\n",
            "\n",
            "           0       0.49      0.50      0.50       443\n",
            "           1       0.65      0.53      0.58       150\n",
            "           2       0.75      0.76      0.76      1986\n",
            "           3       0.63      0.63      0.63      1417\n",
            "           4       1.00      0.33      0.50         3\n",
            "           5       0.00      0.00      0.00         1\n",
            "\n",
            "    accuracy                           0.68      4000\n",
            "   macro avg       0.59      0.46      0.49      4000\n",
            "weighted avg       0.67      0.68      0.67      4000\n",
            "\n"
          ]
        }
      ]
    },
    {
      "cell_type": "markdown",
      "source": [
        "## We finetune the hyperparameters of RandomForest \n",
        "by using `sklearn.model_selection.GridSearchCV` to perform not only the hyperparameters tuning but look at the 10-fold crossvalidation of the model performance"
      ],
      "metadata": {
        "id": "IBrKe7hVK3gI"
      }
    },
    {
      "cell_type": "code",
      "source": [
        "from sklearn.model_selection import GridSearchCV"
      ],
      "metadata": {
        "id": "4Fs7NrW0D-Rn"
      },
      "execution_count": 431,
      "outputs": []
    },
    {
      "cell_type": "code",
      "source": [
        "# Let's declare some of the Random Forest's hyperparametrs for the grid search to reiterate through\n",
        "param_grid = {\n",
        "\"max_depth\": [10, 15,20], \n",
        "\"max_features\": ['sqrt', 'log2']\n",
        "}\n",
        "\n",
        "random_forest_classifier =  RandomForestClassifier()\n",
        "grid_cv_classifier = GridSearchCV(random_forest_classifier, \n",
        "                                  param_grid = param_grid,\n",
        "                                  cv = 10,\n",
        "                                  scoring = \"f1_weighted\") #we use the f1-score metric as specified in the instructino\n",
        "\n",
        "grid_cv_classifier.fit(X_train, val_train)"
      ],
      "metadata": {
        "colab": {
          "base_uri": "https://localhost:8080/"
        },
        "id": "5nKLLF0FDkWK",
        "outputId": "4664ade5-315a-42de-9724-a9c6c061dd91"
      },
      "execution_count": 442,
      "outputs": [
        {
          "output_type": "stream",
          "name": "stderr",
          "text": [
            "/usr/local/lib/python3.8/dist-packages/sklearn/model_selection/_split.py:676: UserWarning: The least populated class in y has only 1 members, which is less than n_splits=10.\n",
            "  warnings.warn(\n"
          ]
        },
        {
          "output_type": "execute_result",
          "data": {
            "text/plain": [
              "GridSearchCV(cv=10, estimator=RandomForestClassifier(),\n",
              "             param_grid={'max_depth': [10, 15, 20],\n",
              "                         'max_features': ['sqrt', 'log2']},\n",
              "             scoring='f1_weighted')"
            ]
          },
          "metadata": {},
          "execution_count": 442
        }
      ]
    },
    {
      "cell_type": "code",
      "source": [
        "pd.DataFrame(grid_cv_classifier.cv_results_)"
      ],
      "metadata": {
        "colab": {
          "base_uri": "https://localhost:8080/",
          "height": 605
        },
        "id": "6wWWYnPTFBSJ",
        "outputId": "c03de05e-afc6-489d-ec57-e582f8a7e7cb"
      },
      "execution_count": 443,
      "outputs": [
        {
          "output_type": "execute_result",
          "data": {
            "text/plain": [
              "   mean_fit_time  std_fit_time  mean_score_time  std_score_time  \\\n",
              "0       0.897056      0.048546         0.033055        0.001654   \n",
              "1       0.892609      0.020633         0.032768        0.001688   \n",
              "2       1.219032      0.098798         0.048857        0.010458   \n",
              "3       1.160627      0.027085         0.044833        0.001257   \n",
              "4       1.284855      0.024126         0.050709        0.001374   \n",
              "5       1.433537      0.188765         0.052279        0.005432   \n",
              "\n",
              "  param_max_depth param_max_features  \\\n",
              "0              10               sqrt   \n",
              "1              10               log2   \n",
              "2              15               sqrt   \n",
              "3              15               log2   \n",
              "4              20               sqrt   \n",
              "5              20               log2   \n",
              "\n",
              "                                      params  split0_test_score  \\\n",
              "0  {'max_depth': 10, 'max_features': 'sqrt'}           0.683407   \n",
              "1  {'max_depth': 10, 'max_features': 'log2'}           0.686621   \n",
              "2  {'max_depth': 15, 'max_features': 'sqrt'}           0.710196   \n",
              "3  {'max_depth': 15, 'max_features': 'log2'}           0.714021   \n",
              "4  {'max_depth': 20, 'max_features': 'sqrt'}           0.694711   \n",
              "5  {'max_depth': 20, 'max_features': 'log2'}           0.698573   \n",
              "\n",
              "   split1_test_score  split2_test_score  split3_test_score  split4_test_score  \\\n",
              "0           0.673620           0.702472           0.694283           0.688103   \n",
              "1           0.673579           0.705857           0.701869           0.684198   \n",
              "2           0.690971           0.711631           0.699668           0.690011   \n",
              "3           0.698348           0.712872           0.701393           0.693672   \n",
              "4           0.685875           0.710277           0.688245           0.688186   \n",
              "5           0.681043           0.702863           0.689649           0.684637   \n",
              "\n",
              "   split5_test_score  split6_test_score  split7_test_score  split8_test_score  \\\n",
              "0           0.701395           0.681356           0.691733           0.686032   \n",
              "1           0.702022           0.675350           0.694616           0.692003   \n",
              "2           0.721373           0.697806           0.705700           0.702159   \n",
              "3           0.714931           0.692831           0.708668           0.704107   \n",
              "4           0.714062           0.682876           0.695782           0.691815   \n",
              "5           0.711570           0.690497           0.693865           0.690574   \n",
              "\n",
              "   split9_test_score  mean_test_score  std_test_score  rank_test_score  \n",
              "0           0.689063         0.689146        0.008403                6  \n",
              "1           0.687532         0.690365        0.010470                5  \n",
              "2           0.708234         0.703775        0.009191                2  \n",
              "3           0.720212         0.706105        0.008995                1  \n",
              "4           0.708912         0.696074        0.010545                3  \n",
              "5           0.703125         0.694640        0.008865                4  "
            ],
            "text/html": [
              "\n",
              "  <div id=\"df-c7677457-f17c-4dde-a7cc-c1196f65170f\">\n",
              "    <div class=\"colab-df-container\">\n",
              "      <div>\n",
              "<style scoped>\n",
              "    .dataframe tbody tr th:only-of-type {\n",
              "        vertical-align: middle;\n",
              "    }\n",
              "\n",
              "    .dataframe tbody tr th {\n",
              "        vertical-align: top;\n",
              "    }\n",
              "\n",
              "    .dataframe thead th {\n",
              "        text-align: right;\n",
              "    }\n",
              "</style>\n",
              "<table border=\"1\" class=\"dataframe\">\n",
              "  <thead>\n",
              "    <tr style=\"text-align: right;\">\n",
              "      <th></th>\n",
              "      <th>mean_fit_time</th>\n",
              "      <th>std_fit_time</th>\n",
              "      <th>mean_score_time</th>\n",
              "      <th>std_score_time</th>\n",
              "      <th>param_max_depth</th>\n",
              "      <th>param_max_features</th>\n",
              "      <th>params</th>\n",
              "      <th>split0_test_score</th>\n",
              "      <th>split1_test_score</th>\n",
              "      <th>split2_test_score</th>\n",
              "      <th>split3_test_score</th>\n",
              "      <th>split4_test_score</th>\n",
              "      <th>split5_test_score</th>\n",
              "      <th>split6_test_score</th>\n",
              "      <th>split7_test_score</th>\n",
              "      <th>split8_test_score</th>\n",
              "      <th>split9_test_score</th>\n",
              "      <th>mean_test_score</th>\n",
              "      <th>std_test_score</th>\n",
              "      <th>rank_test_score</th>\n",
              "    </tr>\n",
              "  </thead>\n",
              "  <tbody>\n",
              "    <tr>\n",
              "      <th>0</th>\n",
              "      <td>0.897056</td>\n",
              "      <td>0.048546</td>\n",
              "      <td>0.033055</td>\n",
              "      <td>0.001654</td>\n",
              "      <td>10</td>\n",
              "      <td>sqrt</td>\n",
              "      <td>{'max_depth': 10, 'max_features': 'sqrt'}</td>\n",
              "      <td>0.683407</td>\n",
              "      <td>0.673620</td>\n",
              "      <td>0.702472</td>\n",
              "      <td>0.694283</td>\n",
              "      <td>0.688103</td>\n",
              "      <td>0.701395</td>\n",
              "      <td>0.681356</td>\n",
              "      <td>0.691733</td>\n",
              "      <td>0.686032</td>\n",
              "      <td>0.689063</td>\n",
              "      <td>0.689146</td>\n",
              "      <td>0.008403</td>\n",
              "      <td>6</td>\n",
              "    </tr>\n",
              "    <tr>\n",
              "      <th>1</th>\n",
              "      <td>0.892609</td>\n",
              "      <td>0.020633</td>\n",
              "      <td>0.032768</td>\n",
              "      <td>0.001688</td>\n",
              "      <td>10</td>\n",
              "      <td>log2</td>\n",
              "      <td>{'max_depth': 10, 'max_features': 'log2'}</td>\n",
              "      <td>0.686621</td>\n",
              "      <td>0.673579</td>\n",
              "      <td>0.705857</td>\n",
              "      <td>0.701869</td>\n",
              "      <td>0.684198</td>\n",
              "      <td>0.702022</td>\n",
              "      <td>0.675350</td>\n",
              "      <td>0.694616</td>\n",
              "      <td>0.692003</td>\n",
              "      <td>0.687532</td>\n",
              "      <td>0.690365</td>\n",
              "      <td>0.010470</td>\n",
              "      <td>5</td>\n",
              "    </tr>\n",
              "    <tr>\n",
              "      <th>2</th>\n",
              "      <td>1.219032</td>\n",
              "      <td>0.098798</td>\n",
              "      <td>0.048857</td>\n",
              "      <td>0.010458</td>\n",
              "      <td>15</td>\n",
              "      <td>sqrt</td>\n",
              "      <td>{'max_depth': 15, 'max_features': 'sqrt'}</td>\n",
              "      <td>0.710196</td>\n",
              "      <td>0.690971</td>\n",
              "      <td>0.711631</td>\n",
              "      <td>0.699668</td>\n",
              "      <td>0.690011</td>\n",
              "      <td>0.721373</td>\n",
              "      <td>0.697806</td>\n",
              "      <td>0.705700</td>\n",
              "      <td>0.702159</td>\n",
              "      <td>0.708234</td>\n",
              "      <td>0.703775</td>\n",
              "      <td>0.009191</td>\n",
              "      <td>2</td>\n",
              "    </tr>\n",
              "    <tr>\n",
              "      <th>3</th>\n",
              "      <td>1.160627</td>\n",
              "      <td>0.027085</td>\n",
              "      <td>0.044833</td>\n",
              "      <td>0.001257</td>\n",
              "      <td>15</td>\n",
              "      <td>log2</td>\n",
              "      <td>{'max_depth': 15, 'max_features': 'log2'}</td>\n",
              "      <td>0.714021</td>\n",
              "      <td>0.698348</td>\n",
              "      <td>0.712872</td>\n",
              "      <td>0.701393</td>\n",
              "      <td>0.693672</td>\n",
              "      <td>0.714931</td>\n",
              "      <td>0.692831</td>\n",
              "      <td>0.708668</td>\n",
              "      <td>0.704107</td>\n",
              "      <td>0.720212</td>\n",
              "      <td>0.706105</td>\n",
              "      <td>0.008995</td>\n",
              "      <td>1</td>\n",
              "    </tr>\n",
              "    <tr>\n",
              "      <th>4</th>\n",
              "      <td>1.284855</td>\n",
              "      <td>0.024126</td>\n",
              "      <td>0.050709</td>\n",
              "      <td>0.001374</td>\n",
              "      <td>20</td>\n",
              "      <td>sqrt</td>\n",
              "      <td>{'max_depth': 20, 'max_features': 'sqrt'}</td>\n",
              "      <td>0.694711</td>\n",
              "      <td>0.685875</td>\n",
              "      <td>0.710277</td>\n",
              "      <td>0.688245</td>\n",
              "      <td>0.688186</td>\n",
              "      <td>0.714062</td>\n",
              "      <td>0.682876</td>\n",
              "      <td>0.695782</td>\n",
              "      <td>0.691815</td>\n",
              "      <td>0.708912</td>\n",
              "      <td>0.696074</td>\n",
              "      <td>0.010545</td>\n",
              "      <td>3</td>\n",
              "    </tr>\n",
              "    <tr>\n",
              "      <th>5</th>\n",
              "      <td>1.433537</td>\n",
              "      <td>0.188765</td>\n",
              "      <td>0.052279</td>\n",
              "      <td>0.005432</td>\n",
              "      <td>20</td>\n",
              "      <td>log2</td>\n",
              "      <td>{'max_depth': 20, 'max_features': 'log2'}</td>\n",
              "      <td>0.698573</td>\n",
              "      <td>0.681043</td>\n",
              "      <td>0.702863</td>\n",
              "      <td>0.689649</td>\n",
              "      <td>0.684637</td>\n",
              "      <td>0.711570</td>\n",
              "      <td>0.690497</td>\n",
              "      <td>0.693865</td>\n",
              "      <td>0.690574</td>\n",
              "      <td>0.703125</td>\n",
              "      <td>0.694640</td>\n",
              "      <td>0.008865</td>\n",
              "      <td>4</td>\n",
              "    </tr>\n",
              "  </tbody>\n",
              "</table>\n",
              "</div>\n",
              "      <button class=\"colab-df-convert\" onclick=\"convertToInteractive('df-c7677457-f17c-4dde-a7cc-c1196f65170f')\"\n",
              "              title=\"Convert this dataframe to an interactive table.\"\n",
              "              style=\"display:none;\">\n",
              "        \n",
              "  <svg xmlns=\"http://www.w3.org/2000/svg\" height=\"24px\"viewBox=\"0 0 24 24\"\n",
              "       width=\"24px\">\n",
              "    <path d=\"M0 0h24v24H0V0z\" fill=\"none\"/>\n",
              "    <path d=\"M18.56 5.44l.94 2.06.94-2.06 2.06-.94-2.06-.94-.94-2.06-.94 2.06-2.06.94zm-11 1L8.5 8.5l.94-2.06 2.06-.94-2.06-.94L8.5 2.5l-.94 2.06-2.06.94zm10 10l.94 2.06.94-2.06 2.06-.94-2.06-.94-.94-2.06-.94 2.06-2.06.94z\"/><path d=\"M17.41 7.96l-1.37-1.37c-.4-.4-.92-.59-1.43-.59-.52 0-1.04.2-1.43.59L10.3 9.45l-7.72 7.72c-.78.78-.78 2.05 0 2.83L4 21.41c.39.39.9.59 1.41.59.51 0 1.02-.2 1.41-.59l7.78-7.78 2.81-2.81c.8-.78.8-2.07 0-2.86zM5.41 20L4 18.59l7.72-7.72 1.47 1.35L5.41 20z\"/>\n",
              "  </svg>\n",
              "      </button>\n",
              "      \n",
              "  <style>\n",
              "    .colab-df-container {\n",
              "      display:flex;\n",
              "      flex-wrap:wrap;\n",
              "      gap: 12px;\n",
              "    }\n",
              "\n",
              "    .colab-df-convert {\n",
              "      background-color: #E8F0FE;\n",
              "      border: none;\n",
              "      border-radius: 50%;\n",
              "      cursor: pointer;\n",
              "      display: none;\n",
              "      fill: #1967D2;\n",
              "      height: 32px;\n",
              "      padding: 0 0 0 0;\n",
              "      width: 32px;\n",
              "    }\n",
              "\n",
              "    .colab-df-convert:hover {\n",
              "      background-color: #E2EBFA;\n",
              "      box-shadow: 0px 1px 2px rgba(60, 64, 67, 0.3), 0px 1px 3px 1px rgba(60, 64, 67, 0.15);\n",
              "      fill: #174EA6;\n",
              "    }\n",
              "\n",
              "    [theme=dark] .colab-df-convert {\n",
              "      background-color: #3B4455;\n",
              "      fill: #D2E3FC;\n",
              "    }\n",
              "\n",
              "    [theme=dark] .colab-df-convert:hover {\n",
              "      background-color: #434B5C;\n",
              "      box-shadow: 0px 1px 3px 1px rgba(0, 0, 0, 0.15);\n",
              "      filter: drop-shadow(0px 1px 2px rgba(0, 0, 0, 0.3));\n",
              "      fill: #FFFFFF;\n",
              "    }\n",
              "  </style>\n",
              "\n",
              "      <script>\n",
              "        const buttonEl =\n",
              "          document.querySelector('#df-c7677457-f17c-4dde-a7cc-c1196f65170f button.colab-df-convert');\n",
              "        buttonEl.style.display =\n",
              "          google.colab.kernel.accessAllowed ? 'block' : 'none';\n",
              "\n",
              "        async function convertToInteractive(key) {\n",
              "          const element = document.querySelector('#df-c7677457-f17c-4dde-a7cc-c1196f65170f');\n",
              "          const dataTable =\n",
              "            await google.colab.kernel.invokeFunction('convertToInteractive',\n",
              "                                                     [key], {});\n",
              "          if (!dataTable) return;\n",
              "\n",
              "          const docLinkHtml = 'Like what you see? Visit the ' +\n",
              "            '<a target=\"_blank\" href=https://colab.research.google.com/notebooks/data_table.ipynb>data table notebook</a>'\n",
              "            + ' to learn more about interactive tables.';\n",
              "          element.innerHTML = '';\n",
              "          dataTable['output_type'] = 'display_data';\n",
              "          await google.colab.output.renderOutput(dataTable, element);\n",
              "          const docLink = document.createElement('div');\n",
              "          docLink.innerHTML = docLinkHtml;\n",
              "          element.appendChild(docLink);\n",
              "        }\n",
              "      </script>\n",
              "    </div>\n",
              "  </div>\n",
              "  "
            ]
          },
          "metadata": {},
          "execution_count": 443
        }
      ]
    },
    {
      "cell_type": "markdown",
      "source": [
        "We observed that after the hyperparameters tuning, the best model can achieve slightly better from non-finedtuned model, with the f1 score increasing from *68%* to touching around *70%*"
      ],
      "metadata": {
        "id": "1R_eq7-tLh6j"
      }
    },
    {
      "cell_type": "code",
      "source": [
        "# print the best parameters after using grid search to find the best hyperparameter of the model\n",
        "grid_cv_classifier.best_params_"
      ],
      "metadata": {
        "colab": {
          "base_uri": "https://localhost:8080/"
        },
        "id": "CnaJXCt_Fx1-",
        "outputId": "5bd6e94f-0b0e-4d3f-e7af-11012e42780d"
      },
      "execution_count": 569,
      "outputs": [
        {
          "output_type": "execute_result",
          "data": {
            "text/plain": [
              "{'max_depth': 15, 'max_features': 'log2'}"
            ]
          },
          "metadata": {},
          "execution_count": 569
        }
      ]
    },
    {
      "cell_type": "code",
      "source": [
        "finetuned_forest_model = RandomForestClassifier(max_depth= 15, max_features= 'log2')\n",
        "finetuned_forest_model.fit(X_train, val_train)\n",
        "pred_y = finetuned_forest_model.predict(X_test)\n",
        "\n",
        "print(classification_report(y_true = val_test,\n",
        "                      y_pred = pred_y))"
      ],
      "metadata": {
        "colab": {
          "base_uri": "https://localhost:8080/"
        },
        "id": "5s-Hg1KKGCKP",
        "outputId": "6a22fe2c-87c1-4c03-87c9-1b420c46a4b9"
      },
      "execution_count": 568,
      "outputs": [
        {
          "output_type": "stream",
          "name": "stdout",
          "text": [
            "              precision    recall  f1-score   support\n",
            "\n",
            "           0       0.53      0.49      0.51       443\n",
            "           1       0.70      0.53      0.60       150\n",
            "           2       0.76      0.79      0.77      1986\n",
            "           3       0.65      0.65      0.65      1417\n",
            "           4       1.00      0.33      0.50         3\n",
            "           5       0.00      0.00      0.00         1\n",
            "\n",
            "    accuracy                           0.70      4000\n",
            "   macro avg       0.61      0.46      0.51      4000\n",
            "weighted avg       0.69      0.70      0.69      4000\n",
            "\n"
          ]
        },
        {
          "output_type": "stream",
          "name": "stderr",
          "text": [
            "/usr/local/lib/python3.8/dist-packages/sklearn/metrics/_classification.py:1318: UndefinedMetricWarning: Precision and F-score are ill-defined and being set to 0.0 in labels with no predicted samples. Use `zero_division` parameter to control this behavior.\n",
            "  _warn_prf(average, modifier, msg_start, len(result))\n",
            "/usr/local/lib/python3.8/dist-packages/sklearn/metrics/_classification.py:1318: UndefinedMetricWarning: Precision and F-score are ill-defined and being set to 0.0 in labels with no predicted samples. Use `zero_division` parameter to control this behavior.\n",
            "  _warn_prf(average, modifier, msg_start, len(result))\n",
            "/usr/local/lib/python3.8/dist-packages/sklearn/metrics/_classification.py:1318: UndefinedMetricWarning: Precision and F-score are ill-defined and being set to 0.0 in labels with no predicted samples. Use `zero_division` parameter to control this behavior.\n",
            "  _warn_prf(average, modifier, msg_start, len(result))\n"
          ]
        }
      ]
    },
    {
      "cell_type": "markdown",
      "source": [
        "---"
      ],
      "metadata": {
        "id": "IhbxML6cHEyK"
      }
    },
    {
      "cell_type": "markdown",
      "source": [
        "# Now perform the classifer on the `Test.geojson`"
      ],
      "metadata": {
        "id": "wIx6zmrvHNNR"
      }
    },
    {
      "cell_type": "code",
      "source": [
        "test_df = gpd.read_file('test.geojson', index_col=0)"
      ],
      "metadata": {
        "id": "1_OC_z30HRX3"
      },
      "execution_count": 498,
      "outputs": []
    },
    {
      "cell_type": "code",
      "source": [
        "test_df.head()"
      ],
      "metadata": {
        "colab": {
          "base_uri": "https://localhost:8080/",
          "height": 608
        },
        "id": "Ut1a59X0MUsq",
        "outputId": "5c1b6f3b-f522-4e8c-e690-6d07501123ae"
      },
      "execution_count": 499,
      "outputs": [
        {
          "output_type": "execute_result",
          "data": {
            "text/plain": [
              "   index change_status_date1 change_status_date2 change_status_date3  \\\n",
              "0      0  Prior Construction  Prior Construction        Land Cleared   \n",
              "1      1  Prior Construction  Prior Construction        Land Cleared   \n",
              "2      2  Prior Construction  Prior Construction        Land Cleared   \n",
              "3      3  Prior Construction  Prior Construction        Land Cleared   \n",
              "4      4        Land Cleared        Land Cleared        Land Cleared   \n",
              "\n",
              "  change_status_date4 change_status_date5       date1       date2       date3  \\\n",
              "0        Land Cleared        Land Cleared  20-11-2014  29-11-2015  16-05-2017   \n",
              "1        Land Cleared        Land Cleared  20-11-2014  29-11-2015  16-05-2017   \n",
              "2        Land Cleared        Land Cleared  20-11-2014  29-11-2015  16-05-2017   \n",
              "3   Construction Done   Construction Done  20-11-2014  29-11-2015  16-05-2017   \n",
              "4        Land Cleared        Land Cleared  20-11-2014  29-11-2015  16-05-2017   \n",
              "\n",
              "        date4       date5 urban_types geography_types  \\\n",
              "0  27-10-2018  19-03-2020        None     Barren Land   \n",
              "1  27-10-2018  19-03-2020        None     Barren Land   \n",
              "2  27-10-2018  19-03-2020        None     Barren Land   \n",
              "3  27-10-2018  19-03-2020        None     Barren Land   \n",
              "4  27-10-2018  19-03-2020        None     Barren Land   \n",
              "\n",
              "                                            geometry  \n",
              "0  POLYGON ((103.97404 36.01415, 103.97448 36.014...  \n",
              "1  POLYGON ((103.97465 36.01404, 103.97460 36.013...  \n",
              "2  POLYGON ((103.97492 36.01409, 103.97490 36.014...  \n",
              "3  POLYGON ((103.97448 36.01374, 103.97442 36.013...  \n",
              "4  POLYGON ((103.97462 36.01347, 103.97482 36.013...  "
            ],
            "text/html": [
              "\n",
              "  <div id=\"df-96dabf07-ad99-4937-a801-e6dbaef815b7\">\n",
              "    <div class=\"colab-df-container\">\n",
              "      <div>\n",
              "<style scoped>\n",
              "    .dataframe tbody tr th:only-of-type {\n",
              "        vertical-align: middle;\n",
              "    }\n",
              "\n",
              "    .dataframe tbody tr th {\n",
              "        vertical-align: top;\n",
              "    }\n",
              "\n",
              "    .dataframe thead th {\n",
              "        text-align: right;\n",
              "    }\n",
              "</style>\n",
              "<table border=\"1\" class=\"dataframe\">\n",
              "  <thead>\n",
              "    <tr style=\"text-align: right;\">\n",
              "      <th></th>\n",
              "      <th>index</th>\n",
              "      <th>change_status_date1</th>\n",
              "      <th>change_status_date2</th>\n",
              "      <th>change_status_date3</th>\n",
              "      <th>change_status_date4</th>\n",
              "      <th>change_status_date5</th>\n",
              "      <th>date1</th>\n",
              "      <th>date2</th>\n",
              "      <th>date3</th>\n",
              "      <th>date4</th>\n",
              "      <th>date5</th>\n",
              "      <th>urban_types</th>\n",
              "      <th>geography_types</th>\n",
              "      <th>geometry</th>\n",
              "    </tr>\n",
              "  </thead>\n",
              "  <tbody>\n",
              "    <tr>\n",
              "      <th>0</th>\n",
              "      <td>0</td>\n",
              "      <td>Prior Construction</td>\n",
              "      <td>Prior Construction</td>\n",
              "      <td>Land Cleared</td>\n",
              "      <td>Land Cleared</td>\n",
              "      <td>Land Cleared</td>\n",
              "      <td>20-11-2014</td>\n",
              "      <td>29-11-2015</td>\n",
              "      <td>16-05-2017</td>\n",
              "      <td>27-10-2018</td>\n",
              "      <td>19-03-2020</td>\n",
              "      <td>None</td>\n",
              "      <td>Barren Land</td>\n",
              "      <td>POLYGON ((103.97404 36.01415, 103.97448 36.014...</td>\n",
              "    </tr>\n",
              "    <tr>\n",
              "      <th>1</th>\n",
              "      <td>1</td>\n",
              "      <td>Prior Construction</td>\n",
              "      <td>Prior Construction</td>\n",
              "      <td>Land Cleared</td>\n",
              "      <td>Land Cleared</td>\n",
              "      <td>Land Cleared</td>\n",
              "      <td>20-11-2014</td>\n",
              "      <td>29-11-2015</td>\n",
              "      <td>16-05-2017</td>\n",
              "      <td>27-10-2018</td>\n",
              "      <td>19-03-2020</td>\n",
              "      <td>None</td>\n",
              "      <td>Barren Land</td>\n",
              "      <td>POLYGON ((103.97465 36.01404, 103.97460 36.013...</td>\n",
              "    </tr>\n",
              "    <tr>\n",
              "      <th>2</th>\n",
              "      <td>2</td>\n",
              "      <td>Prior Construction</td>\n",
              "      <td>Prior Construction</td>\n",
              "      <td>Land Cleared</td>\n",
              "      <td>Land Cleared</td>\n",
              "      <td>Land Cleared</td>\n",
              "      <td>20-11-2014</td>\n",
              "      <td>29-11-2015</td>\n",
              "      <td>16-05-2017</td>\n",
              "      <td>27-10-2018</td>\n",
              "      <td>19-03-2020</td>\n",
              "      <td>None</td>\n",
              "      <td>Barren Land</td>\n",
              "      <td>POLYGON ((103.97492 36.01409, 103.97490 36.014...</td>\n",
              "    </tr>\n",
              "    <tr>\n",
              "      <th>3</th>\n",
              "      <td>3</td>\n",
              "      <td>Prior Construction</td>\n",
              "      <td>Prior Construction</td>\n",
              "      <td>Land Cleared</td>\n",
              "      <td>Construction Done</td>\n",
              "      <td>Construction Done</td>\n",
              "      <td>20-11-2014</td>\n",
              "      <td>29-11-2015</td>\n",
              "      <td>16-05-2017</td>\n",
              "      <td>27-10-2018</td>\n",
              "      <td>19-03-2020</td>\n",
              "      <td>None</td>\n",
              "      <td>Barren Land</td>\n",
              "      <td>POLYGON ((103.97448 36.01374, 103.97442 36.013...</td>\n",
              "    </tr>\n",
              "    <tr>\n",
              "      <th>4</th>\n",
              "      <td>4</td>\n",
              "      <td>Land Cleared</td>\n",
              "      <td>Land Cleared</td>\n",
              "      <td>Land Cleared</td>\n",
              "      <td>Land Cleared</td>\n",
              "      <td>Land Cleared</td>\n",
              "      <td>20-11-2014</td>\n",
              "      <td>29-11-2015</td>\n",
              "      <td>16-05-2017</td>\n",
              "      <td>27-10-2018</td>\n",
              "      <td>19-03-2020</td>\n",
              "      <td>None</td>\n",
              "      <td>Barren Land</td>\n",
              "      <td>POLYGON ((103.97462 36.01347, 103.97482 36.013...</td>\n",
              "    </tr>\n",
              "  </tbody>\n",
              "</table>\n",
              "</div>\n",
              "      <button class=\"colab-df-convert\" onclick=\"convertToInteractive('df-96dabf07-ad99-4937-a801-e6dbaef815b7')\"\n",
              "              title=\"Convert this dataframe to an interactive table.\"\n",
              "              style=\"display:none;\">\n",
              "        \n",
              "  <svg xmlns=\"http://www.w3.org/2000/svg\" height=\"24px\"viewBox=\"0 0 24 24\"\n",
              "       width=\"24px\">\n",
              "    <path d=\"M0 0h24v24H0V0z\" fill=\"none\"/>\n",
              "    <path d=\"M18.56 5.44l.94 2.06.94-2.06 2.06-.94-2.06-.94-.94-2.06-.94 2.06-2.06.94zm-11 1L8.5 8.5l.94-2.06 2.06-.94-2.06-.94L8.5 2.5l-.94 2.06-2.06.94zm10 10l.94 2.06.94-2.06 2.06-.94-2.06-.94-.94-2.06-.94 2.06-2.06.94z\"/><path d=\"M17.41 7.96l-1.37-1.37c-.4-.4-.92-.59-1.43-.59-.52 0-1.04.2-1.43.59L10.3 9.45l-7.72 7.72c-.78.78-.78 2.05 0 2.83L4 21.41c.39.39.9.59 1.41.59.51 0 1.02-.2 1.41-.59l7.78-7.78 2.81-2.81c.8-.78.8-2.07 0-2.86zM5.41 20L4 18.59l7.72-7.72 1.47 1.35L5.41 20z\"/>\n",
              "  </svg>\n",
              "      </button>\n",
              "      \n",
              "  <style>\n",
              "    .colab-df-container {\n",
              "      display:flex;\n",
              "      flex-wrap:wrap;\n",
              "      gap: 12px;\n",
              "    }\n",
              "\n",
              "    .colab-df-convert {\n",
              "      background-color: #E8F0FE;\n",
              "      border: none;\n",
              "      border-radius: 50%;\n",
              "      cursor: pointer;\n",
              "      display: none;\n",
              "      fill: #1967D2;\n",
              "      height: 32px;\n",
              "      padding: 0 0 0 0;\n",
              "      width: 32px;\n",
              "    }\n",
              "\n",
              "    .colab-df-convert:hover {\n",
              "      background-color: #E2EBFA;\n",
              "      box-shadow: 0px 1px 2px rgba(60, 64, 67, 0.3), 0px 1px 3px 1px rgba(60, 64, 67, 0.15);\n",
              "      fill: #174EA6;\n",
              "    }\n",
              "\n",
              "    [theme=dark] .colab-df-convert {\n",
              "      background-color: #3B4455;\n",
              "      fill: #D2E3FC;\n",
              "    }\n",
              "\n",
              "    [theme=dark] .colab-df-convert:hover {\n",
              "      background-color: #434B5C;\n",
              "      box-shadow: 0px 1px 3px 1px rgba(0, 0, 0, 0.15);\n",
              "      filter: drop-shadow(0px 1px 2px rgba(0, 0, 0, 0.3));\n",
              "      fill: #FFFFFF;\n",
              "    }\n",
              "  </style>\n",
              "\n",
              "      <script>\n",
              "        const buttonEl =\n",
              "          document.querySelector('#df-96dabf07-ad99-4937-a801-e6dbaef815b7 button.colab-df-convert');\n",
              "        buttonEl.style.display =\n",
              "          google.colab.kernel.accessAllowed ? 'block' : 'none';\n",
              "\n",
              "        async function convertToInteractive(key) {\n",
              "          const element = document.querySelector('#df-96dabf07-ad99-4937-a801-e6dbaef815b7');\n",
              "          const dataTable =\n",
              "            await google.colab.kernel.invokeFunction('convertToInteractive',\n",
              "                                                     [key], {});\n",
              "          if (!dataTable) return;\n",
              "\n",
              "          const docLinkHtml = 'Like what you see? Visit the ' +\n",
              "            '<a target=\"_blank\" href=https://colab.research.google.com/notebooks/data_table.ipynb>data table notebook</a>'\n",
              "            + ' to learn more about interactive tables.';\n",
              "          element.innerHTML = '';\n",
              "          dataTable['output_type'] = 'display_data';\n",
              "          await google.colab.output.renderOutput(dataTable, element);\n",
              "          const docLink = document.createElement('div');\n",
              "          docLink.innerHTML = docLinkHtml;\n",
              "          element.appendChild(docLink);\n",
              "        }\n",
              "      </script>\n",
              "    </div>\n",
              "  </div>\n",
              "  "
            ]
          },
          "metadata": {},
          "execution_count": 499
        }
      ]
    },
    {
      "cell_type": "code",
      "source": [
        "test_df.shape"
      ],
      "metadata": {
        "colab": {
          "base_uri": "https://localhost:8080/"
        },
        "id": "UFjlFrM6HW6T",
        "outputId": "5c13e07a-adcd-4573-c88f-b79e4fd7c653"
      },
      "execution_count": 462,
      "outputs": [
        {
          "output_type": "execute_result",
          "data": {
            "text/plain": [
              "(121704, 14)"
            ]
          },
          "metadata": {},
          "execution_count": 462
        }
      ]
    },
    {
      "cell_type": "markdown",
      "source": [
        "## We perform the 3 feature engineering tasks as discussed above to the test dataset"
      ],
      "metadata": {
        "id": "Pci7IGEYYMpT"
      }
    },
    {
      "cell_type": "code",
      "source": [
        "test_laberize_df = laberizer(test_df) #Feature engineering 1\n",
        "test_polygon_extractor_df =polygon_extractor(test_df) #Feature engineering 2\n",
        "test_date_diff_df = compute_date_diff(test_df) #Feature engineering 3\n",
        "\n",
        "\n",
        "# then create the concatenated datset from the 3 dataframes \n",
        "test_X_df = pd.concat([test_laberize_df, test_polygon_extractor_df, test_date_diff_df ], axis = 1)"
      ],
      "metadata": {
        "colab": {
          "base_uri": "https://localhost:8080/"
        },
        "id": "fJpa-vawHbMl",
        "outputId": "7e8d54e3-fcbf-4fcd-b6d4-f4ae9b26a850"
      },
      "execution_count": 473,
      "outputs": [
        {
          "output_type": "stream",
          "name": "stderr",
          "text": [
            "/usr/local/lib/python3.8/dist-packages/shapely/measurement.py:45: RuntimeWarning: invalid value encountered in area\n",
            "  return lib.area(geometry, **kwargs)\n",
            "/usr/local/lib/python3.8/dist-packages/shapely/measurement.py:187: RuntimeWarning: invalid value encountered in length\n",
            "  return lib.length(geometry, **kwargs)\n"
          ]
        }
      ]
    },
    {
      "cell_type": "code",
      "source": [
        "print(test_laberize_df.shape)\n",
        "print(laberized_df.shape)"
      ],
      "metadata": {
        "colab": {
          "base_uri": "https://localhost:8080/"
        },
        "id": "8pLh9vpdI6ra",
        "outputId": "4e3d5dc9-59c7-43e6-cec5-46f1b47a076e"
      },
      "execution_count": 570,
      "outputs": [
        {
          "output_type": "stream",
          "name": "stdout",
          "text": [
            "(121704, 17)\n",
            "(19996, 17)\n"
          ]
        }
      ]
    },
    {
      "cell_type": "code",
      "source": [
        "test_laberize_df.columns"
      ],
      "metadata": {
        "colab": {
          "base_uri": "https://localhost:8080/"
        },
        "id": "p2dp3wYTJTSE",
        "outputId": "7b44451f-caec-45d0-a210-3a9fd76b0359"
      },
      "execution_count": 571,
      "outputs": [
        {
          "output_type": "execute_result",
          "data": {
            "text/plain": [
              "Index(['Dense Urban', 'Industrial', 'None', 'Rural', 'Sparse Urban',\n",
              "       'Urban Slum', 'Barren Land', 'Coastal', 'Dense Forest', 'Desert',\n",
              "       'Farms', 'Grass Land', 'Hills', 'Lakes', 'None', 'River',\n",
              "       'Sparse Forest'],\n",
              "      dtype='object')"
            ]
          },
          "metadata": {},
          "execution_count": 571
        }
      ]
    },
    {
      "cell_type": "code",
      "source": [
        "laberized_df.columns"
      ],
      "metadata": {
        "colab": {
          "base_uri": "https://localhost:8080/"
        },
        "id": "prgBC-n-JVBO",
        "outputId": "969b95b4-3d7f-469d-9636-39e9b73712f1"
      },
      "execution_count": 486,
      "outputs": [
        {
          "output_type": "execute_result",
          "data": {
            "text/plain": [
              "Index(['Dense Urban', 'Industrial', 'None', 'Rural', 'Sparse Urban',\n",
              "       'Urban Slum', 'Barren Land', 'Coastal', 'Dense Forest', 'Desert',\n",
              "       'Farms', 'Grass Land', 'Hills', 'Lakes', 'None', 'River',\n",
              "       'Sparse Forest'],\n",
              "      dtype='object')"
            ]
          },
          "metadata": {},
          "execution_count": 486
        }
      ]
    },
    {
      "cell_type": "markdown",
      "source": [
        "Above we found out the *mismatch between training and testing* after vectorize the geography and urban types.\n",
        "\n",
        " We find that in the test geography types, there is a class 'Snow' that does not exist in our sliced dataset, as a result we must remove this one feature to match the shape size between training dataset and testing dataset"
      ],
      "metadata": {
        "id": "7eaBTTBdJva5"
      }
    },
    {
      "cell_type": "code",
      "source": [
        "# So we must this particular feature \"Snow\"\n",
        "test_laberize_df = test_laberize_df.drop(columns = 'Snow')"
      ],
      "metadata": {
        "id": "mvLdDWwOJCpm"
      },
      "execution_count": 489,
      "outputs": []
    },
    {
      "cell_type": "code",
      "source": [
        "# Then we recreate the test_X_df by combining the three dataframes\n",
        "test_X_df = pd.concat([test_laberize_df, test_polygon_extractor_df, test_date_diff_df ], axis = 1)"
      ],
      "metadata": {
        "id": "znyr3wVYHqan"
      },
      "execution_count": 490,
      "outputs": []
    },
    {
      "cell_type": "code",
      "source": [
        "test_X_df.head()"
      ],
      "metadata": {
        "colab": {
          "base_uri": "https://localhost:8080/",
          "height": 314
        },
        "id": "nvfsHBhdIypW",
        "outputId": "3a75f695-0b14-442b-df75-0ed677194936"
      },
      "execution_count": 491,
      "outputs": [
        {
          "output_type": "execute_result",
          "data": {
            "text/plain": [
              "   Dense Urban  Industrial  None  Rural  Sparse Urban  Urban Slum  \\\n",
              "0            0           0     1      0             0           0   \n",
              "1            0           0     1      0             0           0   \n",
              "2            0           0     1      0             0           0   \n",
              "3            0           0     1      0             0           0   \n",
              "4            0           0     1      0             0           0   \n",
              "\n",
              "   Barren Land  Coastal  Dense Forest  Desert  ...  Lakes  None  River  \\\n",
              "0            1        0             0       0  ...      0     0      0   \n",
              "1            1        0             0       0  ...      0     0      0   \n",
              "2            1        0             0       0  ...      0     0      0   \n",
              "3            1        0             0       0  ...      0     0      0   \n",
              "4            1        0             0       0  ...      0     0      0   \n",
              "\n",
              "   Sparse Forest         area      length  datediff_1  datediff_2  datediff_3  \\\n",
              "0              0   856.336625  134.729897       374.0       534.0       529.0   \n",
              "1              0  2184.504698  234.248978       374.0       534.0       529.0   \n",
              "2              0   740.522694  146.495899       374.0       534.0       529.0   \n",
              "3              0  1236.129069  171.796278       374.0       534.0       529.0   \n",
              "4              0  1098.852733  137.895207       374.0       534.0       529.0   \n",
              "\n",
              "   datediff_4  \n",
              "0       509.0  \n",
              "1       509.0  \n",
              "2       509.0  \n",
              "3       509.0  \n",
              "4       509.0  \n",
              "\n",
              "[5 rows x 23 columns]"
            ],
            "text/html": [
              "\n",
              "  <div id=\"df-90143aaf-d5ed-4ff8-9f2b-eaf8a41e4f4c\">\n",
              "    <div class=\"colab-df-container\">\n",
              "      <div>\n",
              "<style scoped>\n",
              "    .dataframe tbody tr th:only-of-type {\n",
              "        vertical-align: middle;\n",
              "    }\n",
              "\n",
              "    .dataframe tbody tr th {\n",
              "        vertical-align: top;\n",
              "    }\n",
              "\n",
              "    .dataframe thead th {\n",
              "        text-align: right;\n",
              "    }\n",
              "</style>\n",
              "<table border=\"1\" class=\"dataframe\">\n",
              "  <thead>\n",
              "    <tr style=\"text-align: right;\">\n",
              "      <th></th>\n",
              "      <th>Dense Urban</th>\n",
              "      <th>Industrial</th>\n",
              "      <th>None</th>\n",
              "      <th>Rural</th>\n",
              "      <th>Sparse Urban</th>\n",
              "      <th>Urban Slum</th>\n",
              "      <th>Barren Land</th>\n",
              "      <th>Coastal</th>\n",
              "      <th>Dense Forest</th>\n",
              "      <th>Desert</th>\n",
              "      <th>...</th>\n",
              "      <th>Lakes</th>\n",
              "      <th>None</th>\n",
              "      <th>River</th>\n",
              "      <th>Sparse Forest</th>\n",
              "      <th>area</th>\n",
              "      <th>length</th>\n",
              "      <th>datediff_1</th>\n",
              "      <th>datediff_2</th>\n",
              "      <th>datediff_3</th>\n",
              "      <th>datediff_4</th>\n",
              "    </tr>\n",
              "  </thead>\n",
              "  <tbody>\n",
              "    <tr>\n",
              "      <th>0</th>\n",
              "      <td>0</td>\n",
              "      <td>0</td>\n",
              "      <td>1</td>\n",
              "      <td>0</td>\n",
              "      <td>0</td>\n",
              "      <td>0</td>\n",
              "      <td>1</td>\n",
              "      <td>0</td>\n",
              "      <td>0</td>\n",
              "      <td>0</td>\n",
              "      <td>...</td>\n",
              "      <td>0</td>\n",
              "      <td>0</td>\n",
              "      <td>0</td>\n",
              "      <td>0</td>\n",
              "      <td>856.336625</td>\n",
              "      <td>134.729897</td>\n",
              "      <td>374.0</td>\n",
              "      <td>534.0</td>\n",
              "      <td>529.0</td>\n",
              "      <td>509.0</td>\n",
              "    </tr>\n",
              "    <tr>\n",
              "      <th>1</th>\n",
              "      <td>0</td>\n",
              "      <td>0</td>\n",
              "      <td>1</td>\n",
              "      <td>0</td>\n",
              "      <td>0</td>\n",
              "      <td>0</td>\n",
              "      <td>1</td>\n",
              "      <td>0</td>\n",
              "      <td>0</td>\n",
              "      <td>0</td>\n",
              "      <td>...</td>\n",
              "      <td>0</td>\n",
              "      <td>0</td>\n",
              "      <td>0</td>\n",
              "      <td>0</td>\n",
              "      <td>2184.504698</td>\n",
              "      <td>234.248978</td>\n",
              "      <td>374.0</td>\n",
              "      <td>534.0</td>\n",
              "      <td>529.0</td>\n",
              "      <td>509.0</td>\n",
              "    </tr>\n",
              "    <tr>\n",
              "      <th>2</th>\n",
              "      <td>0</td>\n",
              "      <td>0</td>\n",
              "      <td>1</td>\n",
              "      <td>0</td>\n",
              "      <td>0</td>\n",
              "      <td>0</td>\n",
              "      <td>1</td>\n",
              "      <td>0</td>\n",
              "      <td>0</td>\n",
              "      <td>0</td>\n",
              "      <td>...</td>\n",
              "      <td>0</td>\n",
              "      <td>0</td>\n",
              "      <td>0</td>\n",
              "      <td>0</td>\n",
              "      <td>740.522694</td>\n",
              "      <td>146.495899</td>\n",
              "      <td>374.0</td>\n",
              "      <td>534.0</td>\n",
              "      <td>529.0</td>\n",
              "      <td>509.0</td>\n",
              "    </tr>\n",
              "    <tr>\n",
              "      <th>3</th>\n",
              "      <td>0</td>\n",
              "      <td>0</td>\n",
              "      <td>1</td>\n",
              "      <td>0</td>\n",
              "      <td>0</td>\n",
              "      <td>0</td>\n",
              "      <td>1</td>\n",
              "      <td>0</td>\n",
              "      <td>0</td>\n",
              "      <td>0</td>\n",
              "      <td>...</td>\n",
              "      <td>0</td>\n",
              "      <td>0</td>\n",
              "      <td>0</td>\n",
              "      <td>0</td>\n",
              "      <td>1236.129069</td>\n",
              "      <td>171.796278</td>\n",
              "      <td>374.0</td>\n",
              "      <td>534.0</td>\n",
              "      <td>529.0</td>\n",
              "      <td>509.0</td>\n",
              "    </tr>\n",
              "    <tr>\n",
              "      <th>4</th>\n",
              "      <td>0</td>\n",
              "      <td>0</td>\n",
              "      <td>1</td>\n",
              "      <td>0</td>\n",
              "      <td>0</td>\n",
              "      <td>0</td>\n",
              "      <td>1</td>\n",
              "      <td>0</td>\n",
              "      <td>0</td>\n",
              "      <td>0</td>\n",
              "      <td>...</td>\n",
              "      <td>0</td>\n",
              "      <td>0</td>\n",
              "      <td>0</td>\n",
              "      <td>0</td>\n",
              "      <td>1098.852733</td>\n",
              "      <td>137.895207</td>\n",
              "      <td>374.0</td>\n",
              "      <td>534.0</td>\n",
              "      <td>529.0</td>\n",
              "      <td>509.0</td>\n",
              "    </tr>\n",
              "  </tbody>\n",
              "</table>\n",
              "<p>5 rows × 23 columns</p>\n",
              "</div>\n",
              "      <button class=\"colab-df-convert\" onclick=\"convertToInteractive('df-90143aaf-d5ed-4ff8-9f2b-eaf8a41e4f4c')\"\n",
              "              title=\"Convert this dataframe to an interactive table.\"\n",
              "              style=\"display:none;\">\n",
              "        \n",
              "  <svg xmlns=\"http://www.w3.org/2000/svg\" height=\"24px\"viewBox=\"0 0 24 24\"\n",
              "       width=\"24px\">\n",
              "    <path d=\"M0 0h24v24H0V0z\" fill=\"none\"/>\n",
              "    <path d=\"M18.56 5.44l.94 2.06.94-2.06 2.06-.94-2.06-.94-.94-2.06-.94 2.06-2.06.94zm-11 1L8.5 8.5l.94-2.06 2.06-.94-2.06-.94L8.5 2.5l-.94 2.06-2.06.94zm10 10l.94 2.06.94-2.06 2.06-.94-2.06-.94-.94-2.06-.94 2.06-2.06.94z\"/><path d=\"M17.41 7.96l-1.37-1.37c-.4-.4-.92-.59-1.43-.59-.52 0-1.04.2-1.43.59L10.3 9.45l-7.72 7.72c-.78.78-.78 2.05 0 2.83L4 21.41c.39.39.9.59 1.41.59.51 0 1.02-.2 1.41-.59l7.78-7.78 2.81-2.81c.8-.78.8-2.07 0-2.86zM5.41 20L4 18.59l7.72-7.72 1.47 1.35L5.41 20z\"/>\n",
              "  </svg>\n",
              "      </button>\n",
              "      \n",
              "  <style>\n",
              "    .colab-df-container {\n",
              "      display:flex;\n",
              "      flex-wrap:wrap;\n",
              "      gap: 12px;\n",
              "    }\n",
              "\n",
              "    .colab-df-convert {\n",
              "      background-color: #E8F0FE;\n",
              "      border: none;\n",
              "      border-radius: 50%;\n",
              "      cursor: pointer;\n",
              "      display: none;\n",
              "      fill: #1967D2;\n",
              "      height: 32px;\n",
              "      padding: 0 0 0 0;\n",
              "      width: 32px;\n",
              "    }\n",
              "\n",
              "    .colab-df-convert:hover {\n",
              "      background-color: #E2EBFA;\n",
              "      box-shadow: 0px 1px 2px rgba(60, 64, 67, 0.3), 0px 1px 3px 1px rgba(60, 64, 67, 0.15);\n",
              "      fill: #174EA6;\n",
              "    }\n",
              "\n",
              "    [theme=dark] .colab-df-convert {\n",
              "      background-color: #3B4455;\n",
              "      fill: #D2E3FC;\n",
              "    }\n",
              "\n",
              "    [theme=dark] .colab-df-convert:hover {\n",
              "      background-color: #434B5C;\n",
              "      box-shadow: 0px 1px 3px 1px rgba(0, 0, 0, 0.15);\n",
              "      filter: drop-shadow(0px 1px 2px rgba(0, 0, 0, 0.3));\n",
              "      fill: #FFFFFF;\n",
              "    }\n",
              "  </style>\n",
              "\n",
              "      <script>\n",
              "        const buttonEl =\n",
              "          document.querySelector('#df-90143aaf-d5ed-4ff8-9f2b-eaf8a41e4f4c button.colab-df-convert');\n",
              "        buttonEl.style.display =\n",
              "          google.colab.kernel.accessAllowed ? 'block' : 'none';\n",
              "\n",
              "        async function convertToInteractive(key) {\n",
              "          const element = document.querySelector('#df-90143aaf-d5ed-4ff8-9f2b-eaf8a41e4f4c');\n",
              "          const dataTable =\n",
              "            await google.colab.kernel.invokeFunction('convertToInteractive',\n",
              "                                                     [key], {});\n",
              "          if (!dataTable) return;\n",
              "\n",
              "          const docLinkHtml = 'Like what you see? Visit the ' +\n",
              "            '<a target=\"_blank\" href=https://colab.research.google.com/notebooks/data_table.ipynb>data table notebook</a>'\n",
              "            + ' to learn more about interactive tables.';\n",
              "          element.innerHTML = '';\n",
              "          dataTable['output_type'] = 'display_data';\n",
              "          await google.colab.output.renderOutput(dataTable, element);\n",
              "          const docLink = document.createElement('div');\n",
              "          docLink.innerHTML = docLinkHtml;\n",
              "          element.appendChild(docLink);\n",
              "        }\n",
              "      </script>\n",
              "    </div>\n",
              "  </div>\n",
              "  "
            ]
          },
          "metadata": {},
          "execution_count": 491
        }
      ]
    },
    {
      "cell_type": "code",
      "source": [
        "# we make sure that the resulting shapes of training and testing are now MATCHED !\n",
        "test_X_df.shape[1] == X_train.shape[1]"
      ],
      "metadata": {
        "colab": {
          "base_uri": "https://localhost:8080/"
        },
        "id": "XRDljLEJKj7n",
        "outputId": "64671c51-004d-42f4-9340-6b447aaaea39"
      },
      "execution_count": 496,
      "outputs": [
        {
          "output_type": "execute_result",
          "data": {
            "text/plain": [
              "True"
            ]
          },
          "metadata": {},
          "execution_count": 496
        }
      ]
    },
    {
      "cell_type": "markdown",
      "source": [
        "## Classificaiton on the test dataset\n",
        "Now we select the best yet model from finetuned random forest to perform the classfication on the test data"
      ],
      "metadata": {
        "id": "HvU1o5lZKyhj"
      }
    },
    {
      "cell_type": "code",
      "source": [
        "clean_test_X = test_X_df.replace([np.inf, -np.inf], np.nan, inplace=False)\n",
        "clean_test_X = np.nan_to_num(clean_test_X)\n",
        "pred_y = finetuned_forest_model.predict(pd.DataFrame(clean_test_X, columns = test_X_df.columns ))"
      ],
      "metadata": {
        "id": "hvnU8lh7PL-_"
      },
      "execution_count": 573,
      "outputs": []
    },
    {
      "cell_type": "code",
      "source": [
        "# we want to see how is the distibution of the predicted output class. It is quite in alignment with the training data distribution\n",
        "# The class 4 and 5 (industrial and mega projects) are severely missed out becasue of the imbalanced training data\n",
        "for class_index in range(6):\n",
        "    print(f\"The numbe of prediced class {list(change_type_map.keys())[class_index]}: {np.sum(pred_y == class_index)}\")"
      ],
      "metadata": {
        "colab": {
          "base_uri": "https://localhost:8080/"
        },
        "id": "d8opbLuRPop-",
        "outputId": "13d03b92-4bc0-43fe-cb6e-986f90fedb12"
      },
      "execution_count": 574,
      "outputs": [
        {
          "output_type": "stream",
          "name": "stdout",
          "text": [
            "The numbe of prediced class Demolition: 824\n",
            "The numbe of prediced class Road: 869\n",
            "The numbe of prediced class Residential: 61126\n",
            "The numbe of prediced class Commercial: 58884\n",
            "The numbe of prediced class Industrial: 1\n",
            "The numbe of prediced class Mega Projects: 0\n"
          ]
        }
      ]
    },
    {
      "cell_type": "code",
      "source": [
        "predicted_df = pd.DataFrame(pred_y, columns = ['predicted_classes'])\n",
        "predicted_df.head()"
      ],
      "metadata": {
        "colab": {
          "base_uri": "https://localhost:8080/",
          "height": 204
        },
        "id": "sXNpRJV4XoAI",
        "outputId": "5e20bebb-61a1-404d-ea40-86e013cc08b7"
      },
      "execution_count": 579,
      "outputs": [
        {
          "output_type": "execute_result",
          "data": {
            "text/plain": [
              "   predicted_classes\n",
              "0                  2\n",
              "1                  3\n",
              "2                  2\n",
              "3                  3\n",
              "4                  2"
            ],
            "text/html": [
              "\n",
              "  <div id=\"df-6abb1ebe-784d-44d4-8fa4-e42bce5a59ac\">\n",
              "    <div class=\"colab-df-container\">\n",
              "      <div>\n",
              "<style scoped>\n",
              "    .dataframe tbody tr th:only-of-type {\n",
              "        vertical-align: middle;\n",
              "    }\n",
              "\n",
              "    .dataframe tbody tr th {\n",
              "        vertical-align: top;\n",
              "    }\n",
              "\n",
              "    .dataframe thead th {\n",
              "        text-align: right;\n",
              "    }\n",
              "</style>\n",
              "<table border=\"1\" class=\"dataframe\">\n",
              "  <thead>\n",
              "    <tr style=\"text-align: right;\">\n",
              "      <th></th>\n",
              "      <th>predicted_classes</th>\n",
              "    </tr>\n",
              "  </thead>\n",
              "  <tbody>\n",
              "    <tr>\n",
              "      <th>0</th>\n",
              "      <td>2</td>\n",
              "    </tr>\n",
              "    <tr>\n",
              "      <th>1</th>\n",
              "      <td>3</td>\n",
              "    </tr>\n",
              "    <tr>\n",
              "      <th>2</th>\n",
              "      <td>2</td>\n",
              "    </tr>\n",
              "    <tr>\n",
              "      <th>3</th>\n",
              "      <td>3</td>\n",
              "    </tr>\n",
              "    <tr>\n",
              "      <th>4</th>\n",
              "      <td>2</td>\n",
              "    </tr>\n",
              "  </tbody>\n",
              "</table>\n",
              "</div>\n",
              "      <button class=\"colab-df-convert\" onclick=\"convertToInteractive('df-6abb1ebe-784d-44d4-8fa4-e42bce5a59ac')\"\n",
              "              title=\"Convert this dataframe to an interactive table.\"\n",
              "              style=\"display:none;\">\n",
              "        \n",
              "  <svg xmlns=\"http://www.w3.org/2000/svg\" height=\"24px\"viewBox=\"0 0 24 24\"\n",
              "       width=\"24px\">\n",
              "    <path d=\"M0 0h24v24H0V0z\" fill=\"none\"/>\n",
              "    <path d=\"M18.56 5.44l.94 2.06.94-2.06 2.06-.94-2.06-.94-.94-2.06-.94 2.06-2.06.94zm-11 1L8.5 8.5l.94-2.06 2.06-.94-2.06-.94L8.5 2.5l-.94 2.06-2.06.94zm10 10l.94 2.06.94-2.06 2.06-.94-2.06-.94-.94-2.06-.94 2.06-2.06.94z\"/><path d=\"M17.41 7.96l-1.37-1.37c-.4-.4-.92-.59-1.43-.59-.52 0-1.04.2-1.43.59L10.3 9.45l-7.72 7.72c-.78.78-.78 2.05 0 2.83L4 21.41c.39.39.9.59 1.41.59.51 0 1.02-.2 1.41-.59l7.78-7.78 2.81-2.81c.8-.78.8-2.07 0-2.86zM5.41 20L4 18.59l7.72-7.72 1.47 1.35L5.41 20z\"/>\n",
              "  </svg>\n",
              "      </button>\n",
              "      \n",
              "  <style>\n",
              "    .colab-df-container {\n",
              "      display:flex;\n",
              "      flex-wrap:wrap;\n",
              "      gap: 12px;\n",
              "    }\n",
              "\n",
              "    .colab-df-convert {\n",
              "      background-color: #E8F0FE;\n",
              "      border: none;\n",
              "      border-radius: 50%;\n",
              "      cursor: pointer;\n",
              "      display: none;\n",
              "      fill: #1967D2;\n",
              "      height: 32px;\n",
              "      padding: 0 0 0 0;\n",
              "      width: 32px;\n",
              "    }\n",
              "\n",
              "    .colab-df-convert:hover {\n",
              "      background-color: #E2EBFA;\n",
              "      box-shadow: 0px 1px 2px rgba(60, 64, 67, 0.3), 0px 1px 3px 1px rgba(60, 64, 67, 0.15);\n",
              "      fill: #174EA6;\n",
              "    }\n",
              "\n",
              "    [theme=dark] .colab-df-convert {\n",
              "      background-color: #3B4455;\n",
              "      fill: #D2E3FC;\n",
              "    }\n",
              "\n",
              "    [theme=dark] .colab-df-convert:hover {\n",
              "      background-color: #434B5C;\n",
              "      box-shadow: 0px 1px 3px 1px rgba(0, 0, 0, 0.15);\n",
              "      filter: drop-shadow(0px 1px 2px rgba(0, 0, 0, 0.3));\n",
              "      fill: #FFFFFF;\n",
              "    }\n",
              "  </style>\n",
              "\n",
              "      <script>\n",
              "        const buttonEl =\n",
              "          document.querySelector('#df-6abb1ebe-784d-44d4-8fa4-e42bce5a59ac button.colab-df-convert');\n",
              "        buttonEl.style.display =\n",
              "          google.colab.kernel.accessAllowed ? 'block' : 'none';\n",
              "\n",
              "        async function convertToInteractive(key) {\n",
              "          const element = document.querySelector('#df-6abb1ebe-784d-44d4-8fa4-e42bce5a59ac');\n",
              "          const dataTable =\n",
              "            await google.colab.kernel.invokeFunction('convertToInteractive',\n",
              "                                                     [key], {});\n",
              "          if (!dataTable) return;\n",
              "\n",
              "          const docLinkHtml = 'Like what you see? Visit the ' +\n",
              "            '<a target=\"_blank\" href=https://colab.research.google.com/notebooks/data_table.ipynb>data table notebook</a>'\n",
              "            + ' to learn more about interactive tables.';\n",
              "          element.innerHTML = '';\n",
              "          dataTable['output_type'] = 'display_data';\n",
              "          await google.colab.output.renderOutput(dataTable, element);\n",
              "          const docLink = document.createElement('div');\n",
              "          docLink.innerHTML = docLinkHtml;\n",
              "          element.appendChild(docLink);\n",
              "        }\n",
              "      </script>\n",
              "    </div>\n",
              "  </div>\n",
              "  "
            ]
          },
          "metadata": {},
          "execution_count": 579
        }
      ]
    },
    {
      "cell_type": "markdown",
      "source": [
        "# Save the model prediction output and the model"
      ],
      "metadata": {
        "id": "ft805RHRZfSy"
      }
    },
    {
      "cell_type": "code",
      "source": [
        "predicted_df.to_csv('predicted_class.csv')"
      ],
      "metadata": {
        "id": "WkytMFoDY0JW"
      },
      "execution_count": 580,
      "outputs": []
    },
    {
      "cell_type": "code",
      "source": [
        "import joblib"
      ],
      "metadata": {
        "id": "QCOF9g8ZZKFq"
      },
      "execution_count": 581,
      "outputs": []
    },
    {
      "cell_type": "code",
      "source": [
        "filename = 'finetuned_randomforest.sav'\n",
        "joblib.dump(finetuned_forest_model, filename)"
      ],
      "metadata": {
        "colab": {
          "base_uri": "https://localhost:8080/"
        },
        "id": "P-KU-xnOZUIb",
        "outputId": "6808314c-e911-41c9-d369-0eb3237a792c"
      },
      "execution_count": 582,
      "outputs": [
        {
          "output_type": "execute_result",
          "data": {
            "text/plain": [
              "['finetuned_randomforest.sav']"
            ]
          },
          "metadata": {},
          "execution_count": 582
        }
      ]
    },
    {
      "cell_type": "markdown",
      "source": [
        "---"
      ],
      "metadata": {
        "id": "g0zrPnwdZkaa"
      }
    },
    {
      "cell_type": "markdown",
      "source": [
        "# Ideas for some furhter improvement\n",
        "\n",
        "\n",
        "** Preprocessing step **\n",
        "*  Larger dataset: if I can train with more dataset like the real dataset I am supposed to train on, that could help achieve overall model performance\n",
        "* Imbalanced strategy: undersampling or oversampling or class weight could be performed to adjust the model prediciton probabily on rare classes like Industrial and Mega projects\n",
        "*  Some other feature engineering: for example apart from date differemce we can possibly look at the overall start to ending time, \n",
        "* Data scaling: For continouts variables such as areas, lenght and time interval, the standardization could help achieve the better stability and overall performance\n",
        "\n",
        "\n",
        "** Model Selection **\n",
        "* More classifier could be explored like gradient bossting classifier, or even some basic fully connected neural network with different non-linear activation functions could be explored.\n",
        "\n",
        "\n",
        "## Some final thougth\n",
        "\n",
        "It has been such a very nerve-wrecking yet exciting experience !!! I definitely would welcome any feedback or  more discussion on this exercise. \n",
        "\n",
        "Thank you so much for the opportunity. I hope to hear back from you soon !\n",
        "\n"
      ],
      "metadata": {
        "id": "dskFEXidZlZo"
      }
    },
    {
      "cell_type": "code",
      "source": [],
      "metadata": {
        "id": "upxUiMiDbqF4"
      },
      "execution_count": null,
      "outputs": []
    }
  ]
}